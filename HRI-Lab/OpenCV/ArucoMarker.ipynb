{
 "cells": [
  {
   "cell_type": "markdown",
   "id": "1fbf4b50-2404-4f40-b01e-871729626af9",
   "metadata": {},
   "source": [
    "# Aruco Marker"
   ]
  },
  {
   "cell_type": "markdown",
   "id": "b99ef1b4-f3ff-4949-af0d-4fbbcf09e3ce",
   "metadata": {},
   "source": [
    "---"
   ]
  },
  {
   "cell_type": "markdown",
   "id": "61fcbc22-b201-4d37-8fcf-47c1d2b7e743",
   "metadata": {},
   "source": [
    "## 1. Overview\n",
    "- ArUco:Augmented Reality Universidad de Córdoba(恐らく)\n",
    "- スペインのコルドバ大学で開発?\n",
    "- 使用する際の注意点\n",
    "    - 使う辞書さえ同じであれば、変なことをしない限り、同じIDであれば同じ画像が生成される\n",
    "    - 逆に辞書が一致しないと検出できない\n",
    "    - OpenCVの公式ドキュメントに含まれるサンプル画像は現行の辞書とは異なるもので生成されたらしく使えない"
   ]
  },
  {
   "cell_type": "markdown",
   "id": "75c9fc01-7860-4b21-a299-845399482741",
   "metadata": {},
   "source": [
    "## 2. Usage"
   ]
  },
  {
   "cell_type": "code",
   "execution_count": 40,
   "id": "e79e823f-ea29-4dc0-8594-19b4b423c39a",
   "metadata": {},
   "outputs": [],
   "source": [
    "import cv2\n",
    "from cv2 import aruco\n",
    "import os"
   ]
  },
  {
   "cell_type": "code",
   "execution_count": 41,
   "id": "ef98082a-3af0-4210-83a5-044edda0aa8c",
   "metadata": {},
   "outputs": [
    {
     "name": "stdout",
     "output_type": "stream",
     "text": [
      "['Board', 'Board_create', 'CCW_CENTER', 'CCW_center', 'CORNER_REFINE_APRILTAG', 'CORNER_REFINE_CONTOUR', 'CORNER_REFINE_NONE', 'CORNER_REFINE_SUBPIX', 'CW_TOP_LEFT_CORNER', 'CW_top_left_corner', 'CharucoBoard', 'CharucoBoard_create', 'DICT_4X4_100', 'DICT_4X4_1000', 'DICT_4X4_250', 'DICT_4X4_50', 'DICT_5X5_100', 'DICT_5X5_1000', 'DICT_5X5_250', 'DICT_5X5_50', 'DICT_6X6_100', 'DICT_6X6_1000', 'DICT_6X6_250', 'DICT_6X6_50', 'DICT_7X7_100', 'DICT_7X7_1000', 'DICT_7X7_250', 'DICT_7X7_50', 'DICT_APRILTAG_16H5', 'DICT_APRILTAG_16h5', 'DICT_APRILTAG_25H9', 'DICT_APRILTAG_25h9', 'DICT_APRILTAG_36H10', 'DICT_APRILTAG_36H11', 'DICT_APRILTAG_36h10', 'DICT_APRILTAG_36h11', 'DICT_ARUCO_ORIGINAL', 'DetectorParameters', 'DetectorParameters_create', 'Dictionary', 'Dictionary_create', 'Dictionary_create_from', 'Dictionary_get', 'Dictionary_getBitsFromByteList', 'Dictionary_getByteListFromBits', 'EstimateParameters', 'EstimateParameters_create', 'GridBoard', 'GridBoard_create', '__doc__', '__loader__', '__name__', '__package__', '__spec__', 'calibrateCameraAruco', 'calibrateCameraArucoExtended', 'calibrateCameraCharuco', 'calibrateCameraCharucoExtended', 'custom_dictionary', 'custom_dictionary_from', 'detectCharucoDiamond', 'detectMarkers', 'drawCharucoDiamond', 'drawDetectedCornersCharuco', 'drawDetectedDiamonds', 'drawDetectedMarkers', 'drawMarker', 'drawPlanarBoard', 'estimatePoseBoard', 'estimatePoseCharucoBoard', 'estimatePoseSingleMarkers', 'getBoardObjectAndImagePoints', 'getPredefinedDictionary', 'interpolateCornersCharuco', 'refineDetectedMarkers', 'testCharucoCornersCollinear']\n"
     ]
    }
   ],
   "source": [
    "print(dir(aruco))"
   ]
  },
  {
   "cell_type": "markdown",
   "id": "d271c644-9612-47b8-9cf4-2b1b4018f3cc",
   "metadata": {},
   "source": [
    "- マーカーの作成"
   ]
  },
  {
   "cell_type": "code",
   "execution_count": 43,
   "id": "1e6cbce5-7556-443f-a9df-9ed7e1527193",
   "metadata": {},
   "outputs": [],
   "source": [
    "# マーカーの保存先\n",
    "dir_mark = 'Markers'\n",
    "\n",
    "# 生成するマーカー用のパラメータ\n",
    "num = 1000  #生成するマーカーの個数\n",
    "size = 100   #生成するマーカーのサイズ\n",
    "\n",
    "dictionary = aruco.getPredefinedDictionary(aruco.DICT_5X5_1000)   #辞書の作成, 引数が同じであれば同じ辞書が作成される\n",
    "\n",
    "for i in range(num) :\n",
    "    if(i != 26):\n",
    "        continue\n",
    "    id = i\n",
    "    mark = aruco.drawMarker(dictionary, id, size)   #drawMarkerは第一引数が辞書, 第二引数がその画像から検出されるID, 第三引数は大きさ\n",
    "    if(count < 10):\n",
    "        mark_name = 'mark_id_0' + str(id) + '.jpg'\n",
    "    else:\n",
    "        mark_name = 'mark_id_' + str(id) + '.jpg'\n",
    "    #path = os.path.join(dir_mark, mark_name)   #pathの結合\n",
    "    #cv2.imwrite(path, mark)   #保存\n",
    "    cv2.imwrite(mark_name, mark)"
   ]
  },
  {
   "cell_type": "markdown",
   "id": "a5ed5e1a-1460-4cdb-9a85-0a92f7ff9bc5",
   "metadata": {},
   "source": [
    "- マーカーの検出"
   ]
  },
  {
   "cell_type": "code",
   "execution_count": 30,
   "id": "f86da3f1-58f2-42b3-85b6-a677af5c1fbb",
   "metadata": {},
   "outputs": [],
   "source": [
    "param = aruco.DetectorParameters_create()"
   ]
  },
  {
   "cell_type": "code",
   "execution_count": 32,
   "id": "745131ed-7f34-48f0-9c72-782cb170e881",
   "metadata": {},
   "outputs": [
    {
     "data": {
      "text/plain": [
       "['__class__',\n",
       " '__delattr__',\n",
       " '__dir__',\n",
       " '__doc__',\n",
       " '__eq__',\n",
       " '__format__',\n",
       " '__ge__',\n",
       " '__getattribute__',\n",
       " '__gt__',\n",
       " '__hash__',\n",
       " '__init__',\n",
       " '__init_subclass__',\n",
       " '__le__',\n",
       " '__lt__',\n",
       " '__ne__',\n",
       " '__new__',\n",
       " '__reduce__',\n",
       " '__reduce_ex__',\n",
       " '__repr__',\n",
       " '__setattr__',\n",
       " '__sizeof__',\n",
       " '__str__',\n",
       " '__subclasshook__',\n",
       " 'adaptiveThreshConstant',\n",
       " 'adaptiveThreshWinSizeMax',\n",
       " 'adaptiveThreshWinSizeMin',\n",
       " 'adaptiveThreshWinSizeStep',\n",
       " 'aprilTagCriticalRad',\n",
       " 'aprilTagDeglitch',\n",
       " 'aprilTagMaxLineFitMse',\n",
       " 'aprilTagMaxNmaxima',\n",
       " 'aprilTagMinClusterPixels',\n",
       " 'aprilTagMinWhiteBlackDiff',\n",
       " 'aprilTagQuadDecimate',\n",
       " 'aprilTagQuadSigma',\n",
       " 'cornerRefinementMaxIterations',\n",
       " 'cornerRefinementMethod',\n",
       " 'cornerRefinementMinAccuracy',\n",
       " 'cornerRefinementWinSize',\n",
       " 'create',\n",
       " 'detectInvertedMarker',\n",
       " 'errorCorrectionRate',\n",
       " 'markerBorderBits',\n",
       " 'maxErroneousBitsInBorderRate',\n",
       " 'maxMarkerPerimeterRate',\n",
       " 'minCornerDistanceRate',\n",
       " 'minDistanceToBorder',\n",
       " 'minMarkerDistanceRate',\n",
       " 'minMarkerLengthRatioOriginalImg',\n",
       " 'minMarkerPerimeterRate',\n",
       " 'minOtsuStdDev',\n",
       " 'minSideLengthCanonicalImg',\n",
       " 'perspectiveRemoveIgnoredMarginPerCell',\n",
       " 'perspectiveRemovePixelPerCell',\n",
       " 'polygonalApproxAccuracyRate',\n",
       " 'readDetectorParameters',\n",
       " 'useAruco3Detection']"
      ]
     },
     "execution_count": 32,
     "metadata": {},
     "output_type": "execute_result"
    }
   ],
   "source": [
    "dir(param)"
   ]
  },
  {
   "cell_type": "markdown",
   "id": "95829c1e-6a58-4cfa-adea-f3831a6f98e6",
   "metadata": {},
   "source": [
    "## References\n",
    ">[公式ドキュメント](https://docs.opencv.org/3.2.0/d9/d6d/tutorial_table_of_content_aruco.html)   \n",
    ">[【python】OpenCVのarucoでマーカー作成、検出、座標抽出する。](https://python-academia.com/opencv-aruco/)"
   ]
  },
  {
   "cell_type": "code",
   "execution_count": null,
   "id": "9ece3861-886a-4c65-9a94-78e992909ea5",
   "metadata": {},
   "outputs": [],
   "source": []
  }
 ],
 "metadata": {
  "kernelspec": {
   "display_name": "Python 3 (ipykernel)",
   "language": "python",
   "name": "python3"
  },
  "language_info": {
   "codemirror_mode": {
    "name": "ipython",
    "version": 3
   },
   "file_extension": ".py",
   "mimetype": "text/x-python",
   "name": "python",
   "nbconvert_exporter": "python",
   "pygments_lexer": "ipython3",
   "version": "3.7.15"
  }
 },
 "nbformat": 4,
 "nbformat_minor": 5
}
