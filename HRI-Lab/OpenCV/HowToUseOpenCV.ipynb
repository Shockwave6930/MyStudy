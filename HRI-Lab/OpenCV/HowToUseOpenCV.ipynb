{
 "cells": [
  {
   "cell_type": "markdown",
   "id": "88048656-74ca-4de9-a8df-1631a5726f54",
   "metadata": {},
   "source": [
    "# OpenCV:Open Source Computer Vision Library"
   ]
  },
  {
   "cell_type": "markdown",
   "id": "d1b31b7e-ebd9-4317-bf57-8f9ed321b810",
   "metadata": {},
   "source": [
    "---"
   ]
  },
  {
   "cell_type": "markdown",
   "id": "1ac8e3a9-a19c-4dee-8fb1-1d4480e3a87e",
   "metadata": {},
   "source": [
    "- Intelで開発されたコンピュータービジョンライブラリ\n",
    "- 主に画像や動画処理系のライブラリ\n",
    "- C++/Pythonで利用可能\n"
   ]
  },
  {
   "cell_type": "code",
   "execution_count": null,
   "id": "67c44154-fe6b-4336-b955-24a38a7f53fc",
   "metadata": {},
   "outputs": [],
   "source": []
  }
 ],
 "metadata": {
  "kernelspec": {
   "display_name": "Python 3 (ipykernel)",
   "language": "python",
   "name": "python3"
  },
  "language_info": {
   "codemirror_mode": {
    "name": "ipython",
    "version": 3
   },
   "file_extension": ".py",
   "mimetype": "text/x-python",
   "name": "python",
   "nbconvert_exporter": "python",
   "pygments_lexer": "ipython3",
   "version": "3.7.15"
  }
 },
 "nbformat": 4,
 "nbformat_minor": 5
}
