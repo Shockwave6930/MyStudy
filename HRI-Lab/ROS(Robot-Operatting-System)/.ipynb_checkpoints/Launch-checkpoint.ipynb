{
 "cells": [
  {
   "cell_type": "markdown",
   "id": "d114b0b7-6f94-4a54-a56e-f726aefecf3f",
   "metadata": {},
   "source": [
    "# Launch"
   ]
  },
  {
   "cell_type": "markdown",
   "id": "602d2e68-6955-4922-b8d5-e0399848737d",
   "metadata": {},
   "source": [
    "- launchファイル1つを実行することで、複数のノードを一括実行可能\n",
    "- パラメータの設定も可能\n",
    "- XML形式\n",
    "- 引数及びそのデフォルト値を指定可能(Ex-2参照)    \n",
    "  <arg name = \"_argument_name_\" default = \"_default_value_\"/>"
   ]
  },
  {
   "cell_type": "markdown",
   "id": "78e2583a-63e2-4474-8187-805b58f9a8cd",
   "metadata": {},
   "source": [
    "$(env HOME)        \n",
    "上のように記述することでLubuntu内のhomeディレクトリを探してくれる    \n",
    "また、引数がファイルの場合は絶対パスで指定してやる必要がある"
   ]
  },
  {
   "cell_type": "markdown",
   "id": "1e4ec6b5-eb2b-47a5-aaf5-0c3d2b0ac2c0",
   "metadata": {},
   "source": [
    "1. Ex-1"
   ]
  },
  {
   "cell_type": "code",
   "execution_count": null,
   "id": "929bd4e0-6b4b-4d39-8d46-2b4cfb68e5c9",
   "metadata": {},
   "outputs": [],
   "source": [
    "ex)\n",
    "<launch>\n",
    "  <node pkg=\"turtlesim\" type=\"turtlesim_node\" name=\"turtlesim\" />\n",
    "  <node pkg=\"turtlesim\" type=\"turtle_teleop_key\" name=\"teleop_key\" />\n",
    "  <node\n",
    "    pkg=\"_package_name_\"\n",
    "    type=\"_node_name_\"\n",
    "    name=\"_any_name_\" #launchファイル内でのノード名で、これは自由に設定可能\n",
    "    output=\"screen\" /> #出力をどこに印刷するかを決める(\"screen\"か\"log\"しかない)\n",
    "</launch>"
   ]
  },
  {
   "cell_type": "markdown",
   "id": "6c72152b-0cf1-4d3f-88d8-2ad84f119fb3",
   "metadata": {},
   "source": [
    "2. Ex-2"
   ]
  },
  {
   "cell_type": "code",
   "execution_count": null,
   "id": "0de5786b-f15e-495a-9518-b58ded701032",
   "metadata": {},
   "outputs": [],
   "source": [
    "<launch>\n",
    "  <arg name = \"direcoty\" default = \"$(env HOME)\"/>\n",
    "  <arg name = \"map_file\" default = \"map.yaml\"/>\n",
    "  <node pkg = \"amcl\" type = \"amcl\" name = \"amcl\"/>\n",
    "  <node pkg = \"robot_class2_dandan\" type = \"map_server\" name = \"map_server\" args = \"$(arg directory)/$(arg map_file)\"/>\n",
    "</launch>"
   ]
  },
  {
   "cell_type": "markdown",
   "id": "0960cf22-c290-454b-ad8e-1e9e20f22066",
   "metadata": {},
   "source": [
    "引数の宣言：\"arg\"    \n",
    "引数を受け取る：\"args\"\n",
    "引数を渡す：\"$(arg _declared_argment_name_)\""
   ]
  },
  {
   "cell_type": "markdown",
   "id": "857f1683-d0e5-4383-9a77-e86a0ec323bb",
   "metadata": {},
   "source": [
    "コマンド\n",
    "- roslaunch _launch_file_name_.launch\n",
    "- roslaunch _launch_file_name_.launch _declared_argment_name_ := value"
   ]
  },
  {
   "cell_type": "code",
   "execution_count": null,
   "id": "e57a3c26-940c-42b7-9abb-eb267a3f8e4d",
   "metadata": {},
   "outputs": [],
   "source": []
  }
 ],
 "metadata": {
  "kernelspec": {
   "display_name": "Python 3",
   "language": "python",
   "name": "python3"
  },
  "language_info": {
   "codemirror_mode": {
    "name": "ipython",
    "version": 3
   },
   "file_extension": ".py",
   "mimetype": "text/x-python",
   "name": "python",
   "nbconvert_exporter": "python",
   "pygments_lexer": "ipython3",
   "version": "3.8.8"
  }
 },
 "nbformat": 4,
 "nbformat_minor": 5
}
