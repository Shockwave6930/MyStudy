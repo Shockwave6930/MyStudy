{
 "cells": [
  {
   "cell_type": "markdown",
   "id": "36cbcd1a-88d4-49f4-8b17-77ceb06609b5",
   "metadata": {},
   "source": [
    "# catkin\n",
    "---"
   ]
  },
  {
   "cell_type": "markdown",
   "id": "c216fad9-9385-4261-996d-3c5ccd0e20ea",
   "metadata": {},
   "source": [
    "- [Catkin Workspaces(公式wiki)](http://wiki.ros.org/catkin/workspaces)\n",
    "- [Creating a workspace for catkin(公式wiki)](http://wiki.ros.org/catkin/Tutorials/create_a_workspace)"
   ]
  },
  {
   "cell_type": "code",
   "execution_count": null,
   "id": "39098018-4bdd-4745-8584-13bae52bab2a",
   "metadata": {},
   "outputs": [],
   "source": []
  }
 ],
 "metadata": {
  "kernelspec": {
   "display_name": "Python 3 (ipykernel)",
   "language": "python",
   "name": "python3"
  },
  "language_info": {
   "codemirror_mode": {
    "name": "ipython",
    "version": 3
   },
   "file_extension": ".py",
   "mimetype": "text/x-python",
   "name": "python",
   "nbconvert_exporter": "python",
   "pygments_lexer": "ipython3",
   "version": "3.7.11"
  }
 },
 "nbformat": 4,
 "nbformat_minor": 5
}
