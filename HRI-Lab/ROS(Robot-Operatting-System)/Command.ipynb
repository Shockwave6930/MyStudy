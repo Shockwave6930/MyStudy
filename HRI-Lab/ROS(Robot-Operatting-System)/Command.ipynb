{
 "cells": [
  {
   "cell_type": "markdown",
   "id": "9539161a-e530-439b-a192-366531dc8349",
   "metadata": {},
   "source": [
    "# Command"
   ]
  },
  {
   "cell_type": "markdown",
   "id": "4c8a30ca-cc3d-4e08-a73b-2507fd1f1558",
   "metadata": {},
   "source": [
    "ファイルに実行権限を与える"
   ]
  },
  {
   "cell_type": "code",
   "execution_count": null,
   "id": "7b7b699b-44cf-41d6-ad3b-071ccc7ee470",
   "metadata": {},
   "outputs": [],
   "source": [
    "chmod +x <ファイル名>"
   ]
  },
  {
   "cell_type": "markdown",
   "id": "442f0a9c-b4f6-4ea9-81d9-250be00b17da",
   "metadata": {},
   "source": [
    "参照:\n",
    "https://qiita.com/ntkgcj/items/6450e25c5564ccaa1b95"
   ]
  },
  {
   "cell_type": "code",
   "execution_count": null,
   "id": "f639cadb-8cef-45de-9904-2dd6a968679e",
   "metadata": {},
   "outputs": [],
   "source": [
    "pwd"
   ]
  },
  {
   "cell_type": "code",
   "execution_count": null,
   "id": "14ad17c9-4846-480b-92e3-3c14d4f21a5e",
   "metadata": {},
   "outputs": [],
   "source": []
  }
 ],
 "metadata": {
  "kernelspec": {
   "display_name": "Bash",
   "language": "bash",
   "name": "bash"
  },
  "language_info": {
   "name": ""
  }
 },
 "nbformat": 4,
 "nbformat_minor": 5
}
