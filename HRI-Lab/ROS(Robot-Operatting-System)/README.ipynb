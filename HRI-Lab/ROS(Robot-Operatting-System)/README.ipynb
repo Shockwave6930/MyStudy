{
 "cells": [
  {
   "cell_type": "markdown",
   "id": "e0bd61cd-f1c5-4d15-ad9f-9b875b84fc6f",
   "metadata": {},
   "source": [
    "# ROS"
   ]
  },
  {
   "cell_type": "markdown",
   "id": "6e6dcff2-9fa3-4e38-97be-c60929e2b734",
   "metadata": {},
   "source": [
    "- 環境構築\n",
    "- メッセージ:msg\n",
    "- トピック:topic\n",
    "- サービス(Service.ipynb)\n",
    "- ノード:node\n",
    "- パッケージ:pkg\n",
    "- アクション:Action\n",
    "- コマンド(rosbash)\n",
    "- catkin"
   ]
  },
  {
   "cell_type": "markdown",
   "id": "9f386d09-2dce-4e4d-bb18-254fbdbe227c",
   "metadata": {},
   "source": [
    "# 実行環境\n",
    "- OS : Lubuntu 18.04\n",
    "- ROS Melodic\n",
    "- Simulator : MORSE"
   ]
  },
  {
   "cell_type": "code",
   "execution_count": null,
   "id": "2a50fe76-00bb-47ac-8cc6-776ff24a9ffc",
   "metadata": {},
   "outputs": [],
   "source": []
  }
 ],
 "metadata": {
  "kernelspec": {
   "display_name": "Python 3 (ipykernel)",
   "language": "python",
   "name": "python3"
  },
  "language_info": {
   "codemirror_mode": {
    "name": "ipython",
    "version": 3
   },
   "file_extension": ".py",
   "mimetype": "text/x-python",
   "name": "python",
   "nbconvert_exporter": "python",
   "pygments_lexer": "ipython3",
   "version": "3.7.11"
  }
 },
 "nbformat": 4,
 "nbformat_minor": 5
}
