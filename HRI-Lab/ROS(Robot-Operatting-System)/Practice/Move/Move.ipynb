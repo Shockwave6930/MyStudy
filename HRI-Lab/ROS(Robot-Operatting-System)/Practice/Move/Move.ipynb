{
 "cells": [
  {
   "cell_type": "markdown",
   "id": "eb78e3f2-4f4d-4201-97cd-b43e3d79e8a2",
   "metadata": {},
   "source": [
    "# 移動"
   ]
  },
  {
   "cell_type": "markdown",
   "id": "d11878a7-034e-4fba-9eea-ad459febf80c",
   "metadata": {},
   "source": [
    "1. 指定時間移動[1]"
   ]
  },
  {
   "cell_type": "code",
   "execution_count": 3,
   "id": "7a3e16e2-4693-4895-a242-341aee572559",
   "metadata": {},
   "outputs": [
    {
     "ename": "ModuleNotFoundError",
     "evalue": "No module named 'rospy'",
     "output_type": "error",
     "traceback": [
      "\u001b[1;31m---------------------------------------------------------------------------\u001b[0m",
      "\u001b[1;31mModuleNotFoundError\u001b[0m                       Traceback (most recent call last)",
      "\u001b[1;32m<ipython-input-3-3a3152e73b09>\u001b[0m in \u001b[0;36m<module>\u001b[1;34m\u001b[0m\n\u001b[1;32m----> 1\u001b[1;33m \u001b[1;32mimport\u001b[0m \u001b[0mrospy\u001b[0m\u001b[1;33m\u001b[0m\u001b[1;33m\u001b[0m\u001b[0m\n\u001b[0m\u001b[0;32m      2\u001b[0m \u001b[1;32mfrom\u001b[0m \u001b[0mgeometry_msgs\u001b[0m\u001b[1;33m.\u001b[0m\u001b[0mmsg\u001b[0m \u001b[1;32mimport\u001b[0m \u001b[0mTwist\u001b[0m\u001b[1;33m\u001b[0m\u001b[1;33m\u001b[0m\u001b[0m\n\u001b[0;32m      3\u001b[0m \u001b[1;33m\u001b[0m\u001b[0m\n\u001b[0;32m      4\u001b[0m \u001b[1;32mdef\u001b[0m \u001b[0mmoveForSecond\u001b[0m\u001b[1;33m(\u001b[0m\u001b[1;33m)\u001b[0m\u001b[1;33m:\u001b[0m\u001b[1;33m\u001b[0m\u001b[1;33m\u001b[0m\u001b[0m\n\u001b[0;32m      5\u001b[0m     \u001b[0mpub\u001b[0m \u001b[1;33m=\u001b[0m \u001b[0mrospy\u001b[0m\u001b[1;33m.\u001b[0m\u001b[0mPublisher\u001b[0m\u001b[1;33m(\u001b[0m\u001b[1;34m'cmd_vel'\u001b[0m\u001b[1;33m,\u001b[0m \u001b[0mTwist\u001b[0m\u001b[1;33m,\u001b[0m \u001b[0mqueue_size\u001b[0m \u001b[1;33m=\u001b[0m \u001b[1;36m10\u001b[0m\u001b[1;33m)\u001b[0m\u001b[1;33m\u001b[0m\u001b[1;33m\u001b[0m\u001b[0m\n",
      "\u001b[1;31mModuleNotFoundError\u001b[0m: No module named 'rospy'"
     ]
    }
   ],
   "source": [
    "import rospy\n",
    "from geometry_msgs.msg import Twist\n",
    "\n",
    "def moveForSecond():\n",
    "    pub = rospy.Publisher('cmd_vel', Twist, queue_size = 10)\n",
    "    begin = rospy.Time.now() #移動開始時の時刻を記録\n",
    "    rate = rospy.Rate(10)\n",
    "    diff = 0\n",
    "    while diff < rospy.Duration(10): #ここでは10秒間移動させることにする\n",
    "        diff = rospy.Time.now() - begin #最初に定義したbeginから何秒経過したか記録\n",
    "        msg = Twist()\n",
    "        msg.linear.x = 1\n",
    "        pub.publish(msg)\n",
    "        rate.sleep()\n",
    "    pub.publish(Twist()) #Twist型の初期値なしインスタンスは0で初期化されているのでこれで止まる"
   ]
  },
  {
   "cell_type": "markdown",
   "id": "31b1d3b7-0aff-4aad-8af9-a121a092016c",
   "metadata": {},
   "source": [
    "2. 指定距離移動[2]"
   ]
  },
  {
   "cell_type": "code",
   "execution_count": null,
   "id": "61e3195a-54fc-4223-8845-cc694af7a71a",
   "metadata": {},
   "outputs": [],
   "source": [
    "init_position_x = 0 #初期位置、目的地が以下だとする\n",
    "init_position_y = 0\n",
    "\n",
    "des_position_x = 10\n",
    "des_position_y = 10\n",
    "\n",
    "dist = 10 * sqrt(2) #今回進む距離\n",
    "\n",
    "def moveToDistance():\n",
    "    pub = rospy.Publisher('cmd_vel', Twist, queue_size = 10)\n",
    "    d = 0 \n",
    "    rate = rospy.Rate(10)\n",
    "    while d < dist: #初期位置から現在位置までの距離を計算し、それが設定した距離より短ければループ\n",
    "        d = sqrt((position.x - init_position.x) ** 2 + (position.y - init_position.y) ** 2)\n",
    "        msg = Twist()\n",
    "        msg.linear.x = 1\n",
    "        msg.linear.y = 1\n",
    "        pub.publish(msg)\n",
    "        rate.sleep()\n",
    "    pub.publish(Twist())"
   ]
  },
  {
   "cell_type": "markdown",
   "id": "edb48985-eec2-41e2-afa6-d4fd426eef59",
   "metadata": {
    "tags": []
   },
   "source": [
    "# 参考文献\n",
    "1. Roombaをプログラムで動かそう  \n",
    "https://demura.net/education/lecture/19668.html"
   ]
  },
  {
   "cell_type": "code",
   "execution_count": null,
   "id": "90373d2b-2024-41ef-a8ab-9da0c33e6c83",
   "metadata": {},
   "outputs": [],
   "source": []
  }
 ],
 "metadata": {
  "kernelspec": {
   "display_name": "Python 3 (ipykernel)",
   "language": "python",
   "name": "python3"
  },
  "language_info": {
   "codemirror_mode": {
    "name": "ipython",
    "version": 3
   },
   "file_extension": ".py",
   "mimetype": "text/x-python",
   "name": "python",
   "nbconvert_exporter": "python",
   "pygments_lexer": "ipython3",
   "version": "3.7.15"
  }
 },
 "nbformat": 4,
 "nbformat_minor": 5
}
