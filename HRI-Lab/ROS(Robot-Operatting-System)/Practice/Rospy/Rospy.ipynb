{
 "cells": [
  {
   "cell_type": "markdown",
   "id": "e6eb356e-6e2a-47e5-b23f-d4735403d5fb",
   "metadata": {},
   "source": [
    "# rospy"
   ]
  },
  {
   "cell_type": "markdown",
   "id": "de6e1690-02c9-4f6d-bba4-745ebafbddaa",
   "metadata": {},
   "source": [
    "参考文献\n",
    "- [公式](http://wiki.ros.org/rospy/Tutorials)"
   ]
  },
  {
   "cell_type": "markdown",
   "id": "8331f399-582e-4ac4-82cb-1ddfff8c2467",
   "metadata": {},
   "source": [
    "---"
   ]
  },
  {
   "cell_type": "markdown",
   "id": "064a4bc0-6aad-4437-ac84-1af1a1a57380",
   "metadata": {},
   "source": [
    "1. rospy.Rate()"
   ]
  },
  {
   "cell_type": "markdown",
   "id": "c77caf39-2572-4fe1-96e1-c34e28d63896",
   "metadata": {},
   "source": [
    "rospy.Rate()はROSでよく用いられる、１秒あたり何回ループを行うかを制御できる便利なオブジェクト"
   ]
  },
  {
   "cell_type": "code",
   "execution_count": null,
   "id": "41136235-492c-4b3b-b62d-7d64bff87c2d",
   "metadata": {},
   "outputs": [],
   "source": [
    "#rospy.Rate()クラスのインスタンスrateを宣言\n",
    "rate = rospy.Rate(10) #()内の単位は[Hz]"
   ]
  },
  {
   "cell_type": "markdown",
   "id": "0f8cf9d0-d7e6-47fd-94aa-b5a077630d2d",
   "metadata": {},
   "source": [
    "上だけだと何の意味も為さない"
   ]
  },
  {
   "cell_type": "code",
   "execution_count": null,
   "id": "4bc3b883-ccb9-4463-a593-3ac83f7e51a5",
   "metadata": {},
   "outputs": [],
   "source": [
    "rate = rospy.Rate(10)\n",
    "while not rospy.is_shutdown():\n",
    "    pub.publish(\"hello\")\n",
    "    rate.sleep() #Rateクラスのメソッド"
   ]
  },
  {
   "cell_type": "markdown",
   "id": "3198b8c8-5022-46d2-b3e0-1436179724b6",
   "metadata": {},
   "source": [
    "このようにすることで、このループが10Hzを超えないようにsleep()で停止する。\n",
    "これは1つのループの実行時間が1/10秒以下の場合、確実にループの時間を制御できる。\n",
    "そうでない場合は不明。"
   ]
  },
  {
   "cell_type": "markdown",
   "id": "709ecae5-6729-4a2b-aa50-bf0a5dbc42a8",
   "metadata": {},
   "source": [
    "参考文献\n",
    "- [Explanation of rospy.Rate()](https://answers.ros.org/question/264812/explanation-of-rospyrate/)"
   ]
  },
  {
   "cell_type": "markdown",
   "id": "5e1a80bf-4e5b-4bd5-8140-e561c5af729e",
   "metadata": {},
   "source": [
    "---"
   ]
  },
  {
   "cell_type": "code",
   "execution_count": null,
   "id": "1b42b591-7afc-4c5d-a8c9-fe983f2ac8b4",
   "metadata": {},
   "outputs": [],
   "source": []
  }
 ],
 "metadata": {
  "kernelspec": {
   "display_name": "Python 3 (ipykernel)",
   "language": "python",
   "name": "python3"
  },
  "language_info": {
   "codemirror_mode": {
    "name": "ipython",
    "version": 3
   },
   "file_extension": ".py",
   "mimetype": "text/x-python",
   "name": "python",
   "nbconvert_exporter": "python",
   "pygments_lexer": "ipython3",
   "version": "3.7.15"
  }
 },
 "nbformat": 4,
 "nbformat_minor": 5
}
