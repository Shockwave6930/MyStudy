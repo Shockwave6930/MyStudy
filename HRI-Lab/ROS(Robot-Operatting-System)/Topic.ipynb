{
 "cells": [
  {
   "cell_type": "markdown",
   "id": "fd747354-c323-423a-a40e-89484f723f4a",
   "metadata": {},
   "source": [
    "# Topic"
   ]
  },
  {
   "cell_type": "markdown",
   "id": "1f823dea-91a5-41dc-bfb6-93ce1bbd5a68",
   "metadata": {},
   "source": [
    "topicはnodeがメッセージをやり取りする際に用いられる場所(掲示板)のこと\n",
    "このように、直接node間でやり取りを行わずにtopicを介してやり取りすることで、どのような言語でもnode(つまるところROS)を書けるようにしている\n",
    "topicにはmessagesが送られる\n",
    "topicにはpublisherとsubscriberの原則が適用され、コミュニケーションは多対多である(勿論1対1でもOK)"
   ]
  },
  {
   "cell_type": "markdown",
   "id": "55ab04de-51d9-4673-99f6-dd2f72cb2efc",
   "metadata": {},
   "source": [
    "5. コマンド"
   ]
  },
  {
   "cell_type": "markdown",
   "id": "aa67585c-c770-4689-b9b3-cdb800d6a11f",
   "metadata": {},
   "source": [
    "rostopic list\n",
    "rostopic echo /_topic_name_\n",
    "rostopic info /_topic_name_\n",
    "rqt_graph"
   ]
  },
  {
   "cell_type": "markdown",
   "id": "db7449ef-284c-4d21-9668-c9c484f2a9e1",
   "metadata": {},
   "source": [
    "$$\n",
    "    % 空白は表示に影響しない。コメントは\"%\"で始める\n",
    "    % 下付き文字は\"_a\"、上付き文字は\"^a\"\n",
    "    % 改行は\"\\\\\"を付ける\n",
    "    y_1 = ax^2 \\\\\n",
    "    % 複数文字を1要素とする際は{...}で囲う\n",
    "    % 空白は\"\\quad\"\n",
    "    y_2 = ax^{10} \\quad y_3 = ax \\\\\n",
    "$$\n"
   ]
  },
  {
   "cell_type": "code",
   "execution_count": null,
   "id": "872b39ee-26ca-416c-aac5-bc3399e8c45b",
   "metadata": {},
   "outputs": [],
   "source": []
  }
 ],
 "metadata": {
  "kernelspec": {
   "display_name": "Python 3 (ipykernel)",
   "language": "python",
   "name": "python3"
  },
  "language_info": {
   "codemirror_mode": {
    "name": "ipython",
    "version": 3
   },
   "file_extension": ".py",
   "mimetype": "text/x-python",
   "name": "python",
   "nbconvert_exporter": "python",
   "pygments_lexer": "ipython3",
   "version": "3.7.11"
  }
 },
 "nbformat": 4,
 "nbformat_minor": 5
}
