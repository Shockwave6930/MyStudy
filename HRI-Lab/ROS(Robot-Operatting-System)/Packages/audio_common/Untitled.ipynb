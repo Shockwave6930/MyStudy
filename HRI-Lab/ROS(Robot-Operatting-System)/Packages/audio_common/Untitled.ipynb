{
 "cells": [
  {
   "cell_type": "markdown",
   "id": "bdeca518-c2f8-4086-8713-639878558fa5",
   "metadata": {},
   "source": [
    "# audio_common"
   ]
  },
  {
   "cell_type": "markdown",
   "id": "056aac9f-e86b-4282-8c44-a884ca65e3ab",
   "metadata": {},
   "source": [
    "---"
   ]
  },
  {
   "cell_type": "markdown",
   "id": "e95211ca-a58c-4a5c-a642-31bd964d6ae7",
   "metadata": {},
   "source": [
    "## 1. Overview"
   ]
  },
  {
   "cell_type": "markdown",
   "id": "bcf432b4-f637-4b4d-bb45-8de8cdae0159",
   "metadata": {},
   "source": [
    " - 以下の4つのパッケージ群を含むパッケージ群\n",
    "     - `audio_capture`\n",
    "         - マイクから音を録音し、再生のためデータを移すコードを提供\n",
    "     - `audio_play`\n",
    "         - audio messagesをnode:`audio_capture`から受け取り、ローカルスピーカーにその内容を出力する\n",
    "     - `audio_common_msgs`\n",
    "         - audio transportのためのメッセージ定義\n",
    "     - `sound_play`\n",
    "         - サウンドファイルを再生と音声合成を行うパッケージ\n",
    " - このスタックはDebianパッケージフォーマットでダウンロード可能でパッケージ名は以下のように指定\n",
    "     - `ros-_distributioinName_-audio-common`"
   ]
  },
  {
   "cell_type": "markdown",
   "id": "1dce0cb7-664a-496e-9e3b-fc26bfc43cd0",
   "metadata": {},
   "source": [
    "## 2. Usage"
   ]
  },
  {
   "cell_type": "markdown",
   "id": "bf0be61c-de9e-403e-a5b1-98edd02ddf08",
   "metadata": {},
   "source": [
    "- 以下の公式Tutorialsを使用\n",
    "    - [audio_common/Tutorials](http://wiki.ros.org/audio_common/Tutorials)"
   ]
  },
  {
   "cell_type": "markdown",
   "id": "e3974b7a-bbcb-4281-8102-012d16893f46",
   "metadata": {},
   "source": [
    "1. How to capture, stream, and play audio using audio_capture and audio_play\n",
    "   - 音源はマイクとファイル形式に対応\n",
    "   - 出力はスピーカーとmp3形式のファイルに対応\n",
    "   - 以下はaudio_commonのtutorials参照\n",
    "   1. Installation\n",
    "       - 追記\n",
    "   2. Testing your setup　　　　　\n",
    "       - 追記\n",
    "   3. Capturing sounds\n",
    "       - command:`roslaunch audio_capture capture.launch`\n",
    "       - キャプチャされた音はtopic:`/audio`に送られる\n",
    "       - 録音中はこのnodeをキルしてはいけない\n",
    "   4. Listening to captured sounds\n",
    "       - 一度node:`audio_capture`が起動してしまえば、この時点でtopic:`/audio`を購読するnode:`audio_play`を使用して音を聞くことが可能\n",
    "       - command:`roslaunch audio_play play.launch`\n",
    "\n",
    "2. Remotely listening through robot ears"
   ]
  },
  {
   "cell_type": "markdown",
   "id": "eb15ed47-583c-41a0-ab7d-0b5bcb6fa227",
   "metadata": {},
   "source": [
    "2. `audio_common_msgs`, `sound_play`"
   ]
  },
  {
   "cell_type": "markdown",
   "id": "61b044e4-bfb7-431e-8c5c-51a81213b026",
   "metadata": {},
   "source": [
    "## 3. References\n",
    ">[audio_common(official)](http://wiki.ros.org/audio_common)    \n",
    ">[audio_common/Tutorials(official)](http://wiki.ros.org/audio_common/Tutorials)\n",
    ">>[audio_play(official)](http://wiki.ros.org/audio_capture)      \n",
    ">>[audio_play(official)](http://wiki.ros.org/audio_play)    \n",
    ">>[audio_common_msgs(official)](http://wiki.ros.org/audio_common_msgs)     \n",
    ">>[sound_play(official)](http://wiki.ros.org/sound_play)"
   ]
  },
  {
   "cell_type": "code",
   "execution_count": null,
   "id": "f6d648f8-6b14-481f-9cb5-6ada32d16bc0",
   "metadata": {},
   "outputs": [],
   "source": []
  }
 ],
 "metadata": {
  "kernelspec": {
   "display_name": "Python 3 (ipykernel)",
   "language": "python",
   "name": "python3"
  },
  "language_info": {
   "codemirror_mode": {
    "name": "ipython",
    "version": 3
   },
   "file_extension": ".py",
   "mimetype": "text/x-python",
   "name": "python",
   "nbconvert_exporter": "python",
   "pygments_lexer": "ipython3",
   "version": "3.7.15"
  }
 },
 "nbformat": 4,
 "nbformat_minor": 5
}
