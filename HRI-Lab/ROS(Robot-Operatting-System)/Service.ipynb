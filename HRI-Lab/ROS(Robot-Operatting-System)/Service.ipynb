{
 "cells": [
  {
   "cell_type": "markdown",
   "id": "0a14e5a2-f27b-4ee0-9f13-5ca532dd25ab",
   "metadata": {},
   "source": [
    "# Service"
   ]
  },
  {
   "cell_type": "markdown",
   "id": "e407fc3a-0c06-4182-b27f-af70dcfafe9d",
   "metadata": {},
   "source": [
    "1. 必要ファイル及びディレクトリ構造\n",
    "    1. サービスファイル(.srv)(1つの入出力の組には1つのサービスしか記述できないので似たものであっても違うサービスファイルに分けて定義する)\n",
    "    ros/catkin_ws/src/_package_name_/srv/_srv_name.srv_\n",
    "    2. サーバー(サービスノード)  \n",
    "    ros/catkin_ws/src/_package_name_/src/_file_name.any(ex.py)_\n",
    "    3. クライアント(クライアントノード:勿論単一のサービスのクライアントを1つのノードとしてもよいし、様々な処理を行うノードの一部にこのクライアントを含めてもよい)  \n",
    "    ros/catkin_ws/src/_package_name_/srv/_file_name.any(ex.py)_"
   ]
  },
  {
   "cell_type": "markdown",
   "id": "4dccd302-79a7-4804-b75b-21473a65d7e6",
   "metadata": {},
   "source": [
    "---"
   ]
  },
  {
   "cell_type": "markdown",
   "id": "3d733f92-6ad8-49a0-a41e-2199f79dd161",
   "metadata": {},
   "source": [
    "2. ファイル定義\n",
    "    1. サービスファイル(.srv)の定義\n",
    "    2. サービスノードの定義\n",
    "    3. クライアントノードの定義"
   ]
  },
  {
   "cell_type": "code",
   "execution_count": 4,
   "id": "4ad5107f-8445-4fff-81ab-c26b1a782979",
   "metadata": {},
   "outputs": [
    {
     "ename": "SyntaxError",
     "evalue": "invalid syntax (<ipython-input-4-0b341a9c0981>, line 10)",
     "output_type": "error",
     "traceback": [
      "\u001b[1;36m  File \u001b[1;32m\"<ipython-input-4-0b341a9c0981>\"\u001b[1;36m, line \u001b[1;32m10\u001b[0m\n\u001b[1;33m    int64 a\u001b[0m\n\u001b[1;37m          ^\u001b[0m\n\u001b[1;31mSyntaxError\u001b[0m\u001b[1;31m:\u001b[0m invalid syntax\n"
     ]
    }
   ],
   "source": [
    "#サービスファイルの定義\n",
    "#ファイルは以下のように記述\n",
    "\n",
    "#データ型 変数名 #入力　\n",
    "#--- #必用\n",
    "#データ型 変数名 #出力\n",
    "\n",
    "#ex)\n",
    "\n",
    "int64 a\n",
    "int64 b\n",
    "---\n",
    "string response\n",
    "\n",
    "#もし入力or出力がなかったら何も書かずに---＋どっちか書いてGG"
   ]
  },
  {
   "cell_type": "code",
   "execution_count": 3,
   "id": "df93201e-ecb8-42ee-b365-270b87729f2c",
   "metadata": {},
   "outputs": [
    {
     "ename": "SyntaxError",
     "evalue": "invalid syntax (<ipython-input-3-db65b0ef8eae>, line 9)",
     "output_type": "error",
     "traceback": [
      "\u001b[1;36m  File \u001b[1;32m\"<ipython-input-3-db65b0ef8eae>\"\u001b[1;36m, line \u001b[1;32m9\u001b[0m\n\u001b[1;33m    print \"Returning [%s + %s = %s]\"%(req.a, req.b, (req.a + req.b))\u001b[0m\n\u001b[1;37m          ^\u001b[0m\n\u001b[1;31mSyntaxError\u001b[0m\u001b[1;31m:\u001b[0m invalid syntax\n"
     ]
    }
   ],
   "source": [
    "#サービスノードの定義\n",
    "\n",
    "#!/usr/bin/env python   ＃いつもの　PythonROSノードはこれが必要　これでPythonスクリプトであることを認識\n",
    "from beginner_tutorials.srv import *   #beginner_tutorialsというパッケージ内のsrvディレクトリ内を全参照せよという意味\n",
    "import rospy\n",
    "\n",
    "def handle_add_two_ints(req):\n",
    "    print \"Returning [%s + %s = %s]\"%(req.a, req.b, (req.a + req.b))\n",
    "    return AddTwoIntsResponse(req.a + req.b)\n",
    "\n",
    "def add_two_ints_server():\n",
    "    rospy.init_node('add_two_ints_server')   #いつもの　ノード名を宣言　これはサービス名ではないことに注意されたい\n",
    "    \n",
    "    s = rospy.Service('add_two_ints', AddTwoInts, handle_add_two_ints)\n",
    "    #AddTwoInts(サービス型)のadd_two_ints(サービス名)というサービスを宣言、更に全てのリクエストをhandle_add_two_ints関数に投げることを宣言\n",
    "    #ここで注意したいのはhandle_add_two_ints関数はAddTwoIntsRequest(自動生成)のインスタンスに呼び出され、結果はAddTwoIntsResponse(〃)のインスタンスを返す\n",
    "    #srvファイルを用意した時点で、サービス名＋Request(/Response)は生成されている\n",
    "    \n",
    "    print \"Ready to add two ints.\"\n",
    "    rospy.spin()   #いつもの　サービス完了までコードが終了しないようにしている\n",
    "\n",
    "if __name__ == \"__main__\":\n",
    "    add_two_ints_server()"
   ]
  },
  {
   "cell_type": "markdown",
   "id": "3611253a-1879-4670-a56b-c078e7aebe65",
   "metadata": {},
   "source": [
    "注意事項:  \n",
    "- handleのreturnは必ずサービスファイルに定義されたものを返すようにしないとエラーが出る\n",
    "- あくまで帰ってくるのはAddTwoIntsResponse型のインスタンスなので、ターミナル上ではresponse: ○○みたいに表示される"
   ]
  },
  {
   "cell_type": "code",
   "execution_count": null,
   "id": "1a67ef88-fac1-43d5-8750-1341134001fa",
   "metadata": {},
   "outputs": [],
   "source": [
    "#クライアントノードの定義\n",
    "\n",
    "#!/usr/bin/env python\n",
    "import sys\n",
    "import rospy\n",
    "from beginner_tutorials.srv import *\n",
    "\n",
    "def add_two_ints_client(x, y):\n",
    "    rospy.wait_for_service('add_two_ints')   #'add_two_ints'という名前のサービスが立ち上がるまで待機、サーバー側を実行しておかないと一生進まない\n",
    "    try:   #例外処理\n",
    "        add_two_ints = rospy.ServiceProxy('add_two_ints', AddTwoInts)   #なんとこれでサーバー側で定義したhandle関数を作製できる\n",
    "        resp1 = add_two_ints(x, y)   #サーバーののhandleを通常関数のように呼び出せる\n",
    "        return resp1.sum\n",
    "    except rospy.ServiceException, e:   #呼出し失敗するとこれが返ってくる\n",
    "        print \"Service call failed: %s\"%e\n",
    "\n",
    "def usage():\n",
    "    return \"%s [x y]\"%sys.argv[0]\n",
    "\n",
    "if __name__ == \"__main__\":\n",
    "    if len(sys.argv) == 3:\n",
    "        x = int(sys.argv[1])\n",
    "        y = int(sys.argv[2])\n",
    "    else:\n",
    "        print usage()\n",
    "        sys.exit(1)\n",
    "    print \"Requesting %s+%s\"%(x, y)\n",
    "    print \"%s + %s = %s\"%(x, y, add_two_ints_client(x, y))\n",
    "    \n",
    "    \n",
    "#クライアントはノード宣言rospy.init_node()をする必要はない"
   ]
  },
  {
   "cell_type": "markdown",
   "id": "118c531d-c418-4c95-8a31-e4e291b9d44e",
   "metadata": {},
   "source": [
    "注意事項:  \n",
    "- クライアントはノード宣言rospy.init_node()をする必要はない\n",
    "- あくまで渡す変数はAddTwoIntsRequestのインスタンス変数なので、表示させるとrequest:○○みたいに表示される\n",
    "- サービスを呼び出す際に渡す変数は、必ずサービスファイルに定義されたものを使用しないとエラーが出る\n",
    "- 呼出し失敗時のエラー型はrospy.ServiceExceptionなのでこれを受け取れる例外処理を用意しておく"
   ]
  },
  {
   "cell_type": "markdown",
   "id": "2e3e8d12-dc31-4594-a119-dc794e083f7a",
   "metadata": {},
   "source": [
    "---"
   ]
  },
  {
   "cell_type": "markdown",
   "id": "c3c18777-5ead-4616-9a60-6adc70046918",
   "metadata": {},
   "source": [
    "2. 実行前作業\n",
    "    - サービスの依存関係を明記\n",
    "        - srvが所属しているパッケージのCMakeLists.txtを以下のように編集 \n",
    "    - サーバーとクライアントのファイルに実行権限を付加 chmod +x _faile_name_\n",
    "    - catkin_make"
   ]
  },
  {
   "cell_type": "code",
   "execution_count": null,
   "id": "f3e3858e-1a87-466c-9930-fcc2a88205db",
   "metadata": {},
   "outputs": [],
   "source": [
    "#コメントアウトを外して、ファイル名を自分で作成したサービスファイルの名前に変更\n",
    "#add_service_files(\n",
    "#    FILES\n",
    "#    <ファイル名>.srv\n",
    "#    <ファイル名>.srv\n",
    "#)\n",
    "↓\n",
    "add_service_files(\n",
    "    FILES\n",
    "    <ファイル名>.srv\n",
    "    <ファイル名>.srv\n",
    ")"
   ]
  },
  {
   "cell_type": "markdown",
   "id": "0de38ac7-8e99-40b2-a034-feaa947f5068",
   "metadata": {},
   "source": [
    "---"
   ]
  },
  {
   "cell_type": "markdown",
   "id": "c72a1c47-1e0e-4e54-912c-088b0a216334",
   "metadata": {},
   "source": [
    "3. 実行"
   ]
  },
  {
   "cell_type": "markdown",
   "id": "f1ecf72d-3ffc-4e57-b0bd-0c3065dbce6b",
   "metadata": {},
   "source": [
    "- Command\n",
    "    - rosrun _package_name_ _node_file_\n",
    "    - rosservice call _service_name_ _arg1_ ...\n",
    "    \n",
    "どちらでも"
   ]
  },
  {
   "cell_type": "markdown",
   "id": "4f64242a-532d-4d15-ae6d-ccac666ff6b0",
   "metadata": {},
   "source": [
    "---"
   ]
  },
  {
   "cell_type": "markdown",
   "id": "b4059816-ac74-413e-a5dd-03ae74baf1ba",
   "metadata": {},
   "source": [
    "## 参考文献"
   ]
  },
  {
   "cell_type": "markdown",
   "id": "d808d331-f6ac-4de8-bb5f-33f09e47edbe",
   "metadata": {},
   "source": [
    "チュートリアル:\n",
    "https://wiki.ros.org/ja/ROS/Tutorials/CreatingMsgAndSrv#Creating_a_srv"
   ]
  },
  {
   "cell_type": "code",
   "execution_count": null,
   "id": "5ae995f9-14d2-4717-b2f3-12ba13429a3d",
   "metadata": {},
   "outputs": [],
   "source": []
  }
 ],
 "metadata": {
  "kernelspec": {
   "display_name": "Python 3 (ipykernel)",
   "language": "python",
   "name": "python3"
  },
  "language_info": {
   "codemirror_mode": {
    "name": "ipython",
    "version": 3
   },
   "file_extension": ".py",
   "mimetype": "text/x-python",
   "name": "python",
   "nbconvert_exporter": "python",
   "pygments_lexer": "ipython3",
   "version": "3.7.16"
  }
 },
 "nbformat": 4,
 "nbformat_minor": 5
}
