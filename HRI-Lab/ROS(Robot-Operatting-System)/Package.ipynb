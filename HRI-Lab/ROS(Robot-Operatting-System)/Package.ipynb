{
 "cells": [
  {
   "cell_type": "markdown",
   "id": "e5803ef8-98bd-4045-a79f-fea316b2cce4",
   "metadata": {},
   "source": [
    "# Packege"
   ]
  },
  {
   "cell_type": "markdown",
   "id": "fe2915d0-e200-4e96-899c-4f19fdc05429",
   "metadata": {},
   "source": [
    "パッケージは実行ファイルやその他ヘルプファイルの集合"
   ]
  },
  {
   "cell_type": "markdown",
   "id": "c335001e-09ee-4adb-8bab-c3d2bb43e14a",
   "metadata": {},
   "source": [
    "- packageの作成\n",
    "    - >[ROS パッケージを作る(公式wiki)](http://wiki.ros.org/ja/catkin/Tutorials/CreatingPackage)"
   ]
  },
  {
   "cell_type": "markdown",
   "id": "26389078-a1d1-4a4b-a0ea-f1f1322d89bb",
   "metadata": {},
   "source": [
    "- コマンド\n",
    "    - `rospack list` : 認識されているパッケージの表示\n",
    "    - `rospack find _package_name_` : パッケージの検索"
   ]
  },
  {
   "cell_type": "code",
   "execution_count": null,
   "id": "c16e39ff-3691-436f-af5e-29e6f7159c13",
   "metadata": {},
   "outputs": [],
   "source": []
  }
 ],
 "metadata": {
  "kernelspec": {
   "display_name": "Python 3 (ipykernel)",
   "language": "python",
   "name": "python3"
  },
  "language_info": {
   "codemirror_mode": {
    "name": "ipython",
    "version": 3
   },
   "file_extension": ".py",
   "mimetype": "text/x-python",
   "name": "python",
   "nbconvert_exporter": "python",
   "pygments_lexer": "ipython3",
   "version": "3.7.11"
  }
 },
 "nbformat": 4,
 "nbformat_minor": 5
}
