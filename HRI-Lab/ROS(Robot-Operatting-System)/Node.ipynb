{
 "cells": [
  {
   "cell_type": "markdown",
   "id": "3a1480c2-7203-4076-988f-019a3fb62a80",
   "metadata": {},
   "source": [
    "# Node"
   ]
  },
  {
   "cell_type": "markdown",
   "id": "31955238-d174-4264-aad5-ec8b4d1beae5",
   "metadata": {},
   "source": [
    "コマンド\n",
    "- rosnode list : 実行中のノードを表示\n",
    "- rosnode info _node_name_ : 特定のノードに関する情報を表示\n",
    "- rosnode kill _node_name_ : ノードの停止"
   ]
  }
 ],
 "metadata": {
  "kernelspec": {
   "display_name": "Python 3 (ipykernel)",
   "language": "python",
   "name": "python3"
  },
  "language_info": {
   "codemirror_mode": {
    "name": "ipython",
    "version": 3
   },
   "file_extension": ".py",
   "mimetype": "text/x-python",
   "name": "python",
   "nbconvert_exporter": "python",
   "pygments_lexer": "ipython3",
   "version": "3.7.11"
  }
 },
 "nbformat": 4,
 "nbformat_minor": 5
}
