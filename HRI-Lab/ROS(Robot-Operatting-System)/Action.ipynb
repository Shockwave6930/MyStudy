{
 "cells": [
  {
   "cell_type": "markdown",
   "id": "0b48017f-9a34-41bc-9f9d-fb2d0dd8ae1c",
   "metadata": {},
   "source": [
    "# Action"
   ]
  },
  {
   "cell_type": "markdown",
   "id": "c613a232-ebf6-4fc7-b9f7-c8ee102230d1",
   "metadata": {},
   "source": [
    "---"
   ]
  },
  {
   "cell_type": "markdown",
   "id": "dedd5aa2-2598-4913-887a-42e1cabbbde1",
   "metadata": {},
   "source": [
    "- 移動などの長い時間がかかるタスクの実行の際、実行中はタスクの中断や進捗具合の確認などはできない。  \n",
    "そのタスク以外のプログラムを実行できるように提供されているのがAction\n",
    "- Actionの実装自体はTopicを用いて構成されている\n",
    "- Serviceは同期、Actionは非同期\n",
    "- Serviceはinputとoutputを定義したが、Actionでは、Goal, Result, Feedbackをアクション定義ファイル(.action)に定義する\n",
    "- アクション定義ファイルはcatkin_ws直下にsrc, serviceなどと同様にactionディレクトリを作成し、その下に置く\n",
    "- アクション定義ファイルから以下のメッセージ定義ファイルが自動生成される\n",
    "    - `_action_file_name_ + Action.msg`\n",
    "    - `_action_file_name_ + ActionFeedback.msg`:内部的に用いられるためアクセスする必要はあまりない\n",
    "    - `_action_file_name_ + ActionGoal.msg`:内部的に用いられるためアクセスする必要はあまりない\n",
    "    - `_action_file_name_ + ActionResult.msg`  :内部的に用いられるためアクセスする必要はあまりない\n",
    "    - `_action_file_name_ + Feedback.msg`\n",
    "    - `_action_file_name_ + Goal.msg`\n",
    "    - `_action_file_name_ + Result.msg`  \n",
    "        - 以上の7メッセージがアクションにおけるクライアントとサーバー間のプロトコルを実装するのに用いられる  \n",
    "        - これらのメッセージ定義ファイルからそれぞれのメッセージに対応するクラス定義(`msg = Twist()`とかの`Twist`)を生成される  \n",
    "        - ただ使用するのはそれらのクラスの一部で実行可能  \n",
    "        - 名前に`Action`が含まれているmessage型には基本アクセスする必要はない\n",
    "- ActionもTopicやServiceなどと同じようにコールバックを基本としたモデル\n",
    "- Service同様、リクエストとレスポンス(Actionではゴールとリザルト)を実現できるが、それだけではなく以下のことが可能\n",
    "    - フィードバックの送信\n",
    "    - クライアントからのリクエストの取り消し\n",
    "    - 非同期でクライアントとサーバーの両方でノンブロッキングプログラミングの実現"
   ]
  },
  {
   "cell_type": "markdown",
   "id": "0febf9d0-9faf-4ca3-bf63-86d1db8850af",
   "metadata": {},
   "source": [
    "---"
   ]
  },
  {
   "cell_type": "markdown",
   "id": "903a0eee-5ebd-49e4-b94a-923123cfb6f3",
   "metadata": {},
   "source": [
    "ここでは、タイマーの要求を満たすためのアクション定義ファイルの例を示す  "
   ]
  },
  {
   "cell_type": "markdown",
   "id": "d63386be-940f-4f2d-b189-ac8b0b65c68c",
   "metadata": {},
   "source": [
    "### 1. アクション定義ファイル"
   ]
  },
  {
   "cell_type": "code",
   "execution_count": null,
   "id": "fe35297e-808b-4af2-8415-d814c9351696",
   "metadata": {},
   "outputs": [],
   "source": [
    "#_file_name_ = Timer.action\n",
    "\n",
    "#Goal(クライアントが送る)\n",
    "duration time_to_wait   #タイマーで待ちたい時間\n",
    "---\n",
    "#Result(完了後にサーバーが送る)\n",
    "duration time_elapsed   #実際に待った時間\n",
    "uint updates_sent   #更新を送った回数\n",
    "---\n",
    "#Feedback（実行中にサーバーが定期的に送る）\n",
    "duration time_elapsed   #タイマー開始からの経過時間\n",
    "duration time_remaining   #完了までの残り時間"
   ]
  },
  {
   "cell_type": "markdown",
   "id": "16adff9a-4923-4a97-9d04-e4e6a14bbbeb",
   "metadata": {},
   "source": [
    "CMakeLists.txtファイルに以下を書き加える"
   ]
  },
  {
   "cell_type": "code",
   "execution_count": null,
   "id": "7520cf66-8047-47e5-b2b1-1af9093222c3",
   "metadata": {},
   "outputs": [],
   "source": [
    "#_file_name_ = CMakeLists.txt\n",
    "find_package(catkin REQUIRED COMPONENTS\n",
    "  actionlib_msgs   #これを追加\n",
    ")\n",
    "add_action_files(\n",
    "  DIRECTORY action   #これを追加\n",
    "  FILES Timer.action   #これを追加\n",
    ")\n",
    "generate_messages(\n",
    "  DEPENDANCIES\n",
    "  actionlib_msgs   #これを追加\n",
    "  std_msgs   #これを追加\n",
    ")\n",
    "catkin_package(\n",
    "  CATKIN_DEPENDS   #これを追加\n",
    "  actionlib_msgs   #これを追加\n",
    ")"
   ]
  },
  {
   "cell_type": "markdown",
   "id": "de955be4-0fbd-4354-9bd2-92128e5cc85d",
   "metadata": {},
   "source": [
    "package.xmlファイルに以下を書き加える"
   ]
  },
  {
   "cell_type": "code",
   "execution_count": null,
   "id": "927c5e6e-a282-4379-b7ec-d1b93ce6810d",
   "metadata": {},
   "outputs": [],
   "source": [
    "<build_depend>actionlib</build_depend>   #これを追加\n",
    "<build_depend>actionlib_msgs</build_depend>   #これを追加\n",
    "<run_depend>action_lib</run_depend>   #これを追加\n",
    "<run_depend>actionlib_msgs</run_depend>   #これを追加"
   ]
  },
  {
   "cell_type": "markdown",
   "id": "90d4fbb7-e4be-4b29-91fa-665a5b1fc29f",
   "metadata": {},
   "source": [
    "### 2. サーバーの実装\n",
    "- アクションサーバーを実装する最も簡単な方法の一つに、`actionlib`パッケージの`SimpleActionServer`クラスを用いる\n",
    "    - `SumpleActionServer`の使い方\n",
    "        - サーバーの宣言(クラスの呼び出し)  \n",
    "        `server = actionlib.SimpleActionServer(_server_name_, _action_type_, _callback_function_name_, False)`  \n",
    "            - 第1引数によってサーバーを構成するTopic群の名前空間が決まり、クライアントの呼び出し時にもこの名前を使用することになる\n",
    "            - 第2引数はサーバーが扱うActionの型で、これは自動生成された`_action_file_name_ + Action.msg`の拡張子を無くしたもの\n",
    "            - 第4引数は常に`False`(これは自動起動をONにするかOFFにするかを決める変数だが、自動起動がデフォルトで開発されたものの、ONにすると複雑なバグになることが取り返しがつかないところまで開発が進んでから判明したため修正されていないことによる)\n",
    "            - この定義をした後`rostopic list`を行うと以下のトピックが追加されていることが確認できる\n",
    "                - `_server_name_/cancel`\n",
    "                - `_server_name_/feedback`\n",
    "                - `_server_name_/goal`\n",
    "                - `_server_name_/result`\n",
    "                - `_server_name_/status`  \n",
    "                これらのTopicはアクションを管理するために内部的に使われている  \n",
    "                これらのTopicのmessage型は、自動生成された以下のmessage型である  \n",
    "                    - `_action_file_name_ + ActionFeedback.msg`\n",
    "                    - `_action_file_name_ + ActionGoal.msg`\n",
    "                    - `_action_file_name_ + ActionResult.msg`  \n",
    "                    これらにはアクション定義ファイルで定義していないフィールドも含まれるが、これらはサーバーとクライアントの間で何が起きているかを管理するために内部的に使われる\n",
    "                    - 実際にはこれらのmessage型で受け渡しを行なっているが、我々がメッセージとして受け取るまでに自動的に上記のフィールドが削除された以下の自分がアクション定義ファイルで定義したフィールドのみを持つmessage型\n",
    "                        - `_action_file_name_ + Feedback.msg`\n",
    "                        - `_action_file_name_ + Goal.msg`\n",
    "                        - `_action_file_name_ + Result.msg`  \n",
    "                        一般的に名前に`Action_`が含まれる自動生成message型にアクセスする必要はないが、これらも用いて高度で複雑な実装も行うことができる  \n",
    "                        - これらの自動生成や自動的な削除をしているのは`actionlib`パッケージである\n",
    "        - サーバーの起動  \n",
    "        `server.start()`\n",
    "        - サーバーの強制終了  \n",
    "        `server.set_aborted((/result) (/, message(string)))`\n",
    "            - 引数無しでも強制終了するが、理解のため最低限resultは返した方がいい\n",
    "            - `message(string)`は書いても書かなくてもいいが、わかりやすいようにメッセージも同時に送るとよい\n",
    "                - この`message(string)`にはクライアント側の`client.get_goal_status_text()`関数で取得可能\n",
    "        - 割り込みの確認  \n",
    "          `server.is_preempt_requested()`\n",
    "            - クライアントがゴールの中断を要求したとき、また他のクライアントが新しいゴールを設定したときにTrueになる\n",
    "        - 割り込みが起こったことの通知  \n",
    "          `server.set_preempted(result (/, message(string)))`\n",
    "            - `message(string)`は書いても書かなくてもいいが、わかりやすいようにメッセージも同時に送るとよい\n",
    "                - この`message(string)`にはクライアント側の`client.get_goal_status_text()`関数で取得可能 \n",
    "        - Feedbackを返す\n",
    "        `server.publish_feedback(feedback)`\n",
    "            - ここで`feedback`はアクション定義ファイルに定義して自動生成された`_action_file_name_ + Feedback.msg`で定義される型のインスタンスである必要がある\n",
    "        - Resultを返す    \n",
    "        `server.set_succeeded(result (/, message(string))`\n",
    "            - ここで`result`はアクション定義ファイルに定義して自動生成された`_action_file_name_ + Result.msg`で定義される型のインスタンスである必要がある\n",
    "            - `message(string)`は書いても書かなくてもいいが、わかりやすいようにメッセージも同時に送るとよい\n",
    "                - この`message(string)`にはクライアント側の`client.get_goal_status_text()`関数で取得可能"
   ]
  },
  {
   "cell_type": "code",
   "execution_count": null,
   "id": "0a031773-c6ef-4c2e-be2d-932275502c96",
   "metadata": {},
   "outputs": [],
   "source": [
    "#_file_name_ = action_server.py\n",
    "#! /usr/bin/env python\n",
    "\n",
    "import rospy\n",
    "import time\n",
    "import actionlib\n",
    "from basic.msgs import TimerAction, TimerGoal, TimerResult, TimerFeedback\n",
    "\n",
    "def do_timer(goal):   #コールバック関数でここで受け取るgoalはアクション定義ファイルから自動生成されたTimerGoal型である必要がある\n",
    "    start_time = time.time()   #現在時刻を取得\n",
    "    update_count = 0   #フィードバックを何回送ったかを記録\n",
    "    \n",
    "    if(goal.time_to_wait.to_sec() > 60.0):   #60秒を超えるsleep要求は明示的に強制終了させる\n",
    "        result = TimerResult()\n",
    "        result.time_elapsed = rospy.Duration.from_sec(time.time() - start_time)   #time_elapsedはアクション定義ファイルで定義したResultの変数\n",
    "        result.updates_sent = update_count   #updates_sentはアクション定義ファイルで定義したResultの変数\n",
    "        server.set_aborted(result, \"Timer aborted due to too-long wait\")\n",
    "        return\n",
    "    \n",
    "    while((time.time() - start_time) < goal.time_to_wait.to_sec()):\n",
    "        if(server.is_preempt_requested()):   #割り込みチェック、あれば強制終了\n",
    "            result = TimerResult()\n",
    "            result.time_elapsed = rospy.Duration.from_sec(time.time() - start_time)\n",
    "            resulr.updates_sent = update_count\n",
    "            server.set_preempted(result, \"Timer preempted\")\n",
    "            return\n",
    "        feedback = TimerFeedback()   #feedbackは一秒ごとに送信するようにするため、sleepは1.0[sec]ずつ行う\n",
    "        feedback.time_elapsed = rospy.Duration.from_sec(time.time() - start_time)   #経過時刻を記録\n",
    "        feedback.time_remaining = goal.time_to_wait - feedback.time_elapsed   #残り時間を記録\n",
    "        server.publish_feedback(feedback)\n",
    "        update_count += 1   #feedbackを送るごとにインクリメント\n",
    "        \n",
    "        time.sleep(1.0)   #1秒停止\n",
    "    result = TimerResult()\n",
    "    result.time_elapsed = rospy.Duration.from_sec(time.time() - start_time)   #経過時間を記録\n",
    "    result.updates_sent = update_count   #feedbackを送った回数を記録\n",
    "    server.set_succeeded(result, \"Timer completed successfully\")\n",
    "    \n",
    "rospy.init_node(\"timer_action_server\")\n",
    "server = actionlib.SimpleActionServer(\"timer\", TimerAction, do_timer, False)\n",
    "server.start()\n",
    "rospy.spin"
   ]
  },
  {
   "cell_type": "markdown",
   "id": "a6fe0f7f-196c-4547-a62a-d24ba9c4d1d4",
   "metadata": {},
   "source": [
    "### 3.クライアントの実装 \n",
    "- アクションサーバーを実装する最も簡単な方法の一つに、`actionlib`パッケージの`SimpleActionClient`クラスを用いる\n",
    "    - `SumpleActionClient`の使い方\n",
    "        - クライアントの宣言(クラスの呼び出し)  \n",
    "        `client = actionlib.SimpleActionClient(_server_name_, _action_type_)`  \n",
    "            - `_server_name_`はサーバーの定義時に用いたもの、`_action_type_`は`_action_file_name_ + Action`)  \n",
    "        - アクションサーバーが起動するのを待つ、それまで次の実行をブロック   \n",
    "        `client.wait_for_server()`  \n",
    "        - ゴールメッセージを送る  \n",
    "        `client.send_goal(goal (/, feedback_cb = _callback_function_name_))` \n",
    "            - ここでのgoalは`_action_file_name_ + Goal.msg`型である必要がある(アクション定義ファイルから自動生成されたもの)\n",
    "            - `(/, feedback_cb = _callback_function_name_))`はコールバック関数を使用しない場合は必要ない\n",
    "        - Goalの中断    \n",
    "        `client.cancel_goal()`  \n",
    "        - Resultが帰ってくるのを待つ  \n",
    "        `client.wait_for_result()` \n",
    "        - ゴールの状態を返す  \n",
    "        `client.get_state()`\n",
    "            - ゴール状態は10個あり、これは`actionlib_msgs/GoalStatus`に列挙型で定義されている\n",
    "            - 今回の例では以下の3つだけ出力される\n",
    "                - `PREEMPTED = 2`\n",
    "                - `SUCCEEDED = 3`\n",
    "                - `ABORTED = 4`  \n",
    "        - サーバーからのresult返却時に同時に送ることができる`(/, message(string)`の受け取り  \n",
    "        `client.get_goal_status_text()` \n",
    "        - clientオブジェクトからResultを取り出す  \n",
    "        `client.get_result()`  \n",
    "            - 出てくるのはもちろん`_action_file_name_ + Result.msg`型"
   ]
  },
  {
   "cell_type": "code",
   "execution_count": null,
   "id": "011e64b2-f291-47a7-b50f-163922155555",
   "metadata": {},
   "outputs": [],
   "source": [
    "#_file_name_ = action_client.py\n",
    "#! /usr/bin/env python\n",
    "import rospy\n",
    "import time\n",
    "import actionlib\n",
    "from basic.msg import TimerAction, TimerGoal, TimerResult, TimerFeedback\n",
    "\n",
    "def feedback_cb(feedback): #コールバック関数(feedbackのメッセージを処理するためだけの関数)\n",
    "    print(\"[Feedback] Time elapsed: %f\"%(feedback.time_elapsed.to_sec()))\n",
    "    print(\"[Feedback] Time remaining: %f\"%(feedback.time_remaining.to_sec()))\n",
    "    \n",
    "rospy.init_node(\"timer_action_client\")\n",
    "client = actionlib.SimpleActionClient(\"timer\", TimerAction)\n",
    "client.wait_for_server()\n",
    "\n",
    "goal = TimerGoal()\n",
    "goal.time_to_wait = rospy.Duration.from_sec(5.0)\n",
    "#サーバー側の強制終了をテストするには以下の1行をコメントアウト\n",
    "#goal.time_to_wait = rospy.Duration.from_sec(500.0)\n",
    "client.send_goal(goal, feedback_cb = feedback_cb)\n",
    "\n",
    "#ゴールの中断テストには以下の2行をコメントアウトする\n",
    "#time.sleep(3.0)\n",
    "#client.cancel_goal()\n",
    "\n",
    "client.wait_for_result()\n",
    "print(\"[Result] State: %d\"%(client.get_state()))\n",
    "print(\"[Result] Status: %s\"%(client.get_goal_status_text()))\n",
    "print(\"[Result] Time elapsed: %f\"%(client.get_result().time_elapsed.to_sec()))\n",
    "print(\"[Result] Updates sent: %d\"%(client.get_result().updates_sent))"
   ]
  }
 ],
 "metadata": {
  "kernelspec": {
   "display_name": "Python 3 (ipykernel)",
   "language": "python",
   "name": "python3"
  },
  "language_info": {
   "codemirror_mode": {
    "name": "ipython",
    "version": 3
   },
   "file_extension": ".py",
   "mimetype": "text/x-python",
   "name": "python",
   "nbconvert_exporter": "python",
   "pygments_lexer": "ipython3",
   "version": "3.7.11"
  }
 },
 "nbformat": 4,
 "nbformat_minor": 5
}
