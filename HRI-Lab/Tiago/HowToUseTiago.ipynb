{
 "cells": [
  {
   "cell_type": "markdown",
   "id": "39d76358-2bdb-41b0-9e67-c85d6e11da12",
   "metadata": {},
   "source": [
    "# TIAGo tutorial"
   ]
  },
  {
   "cell_type": "markdown",
   "id": "9c0c8fed-c173-4c7b-bd95-008a54fe578c",
   "metadata": {},
   "source": [
    "---"
   ]
  },
  {
   "cell_type": "markdown",
   "id": "967385d2-d285-491f-bc8e-c15f3354b25e",
   "metadata": {},
   "source": [
    "## Reference\n",
    " - [TIAGo Tutorial(ROS公式)](http://wiki.ros.org/Robots/TIAGo/Tutorials)\n",
    " - TIAGO_lang_en_GB_handbook-1.29.0-ferrum.pdf(マニュアル, 280ページからチュートリアルに言及)"
   ]
  },
  {
   "cell_type": "markdown",
   "id": "d262be44-9754-4272-b593-850ba11cae42",
   "metadata": {},
   "source": [
    "## Environment\n",
    " - OS:Ubuntu 18.04.5 LTS by using WSL2 on windows10\n",
    " - ROS distribution: melodic"
   ]
  },
  {
   "cell_type": "markdown",
   "id": "cb495c1c-2805-40a1-8647-f6007385bd42",
   "metadata": {},
   "source": [
    "---"
   ]
  },
  {
   "cell_type": "markdown",
   "id": "d04c71af-be3e-451d-a14e-f5a6d429ef38",
   "metadata": {
    "tags": []
   },
   "source": [
    "## 1. Tutorial Installation\n",
    "1. Installing Ubuntu with ROS + TIAGO    \n",
    "    - rosdp packegeはmelodicインストール時に同時にインストールしてくれなくなったので別でインストールが必要 \n",
    "      - 現時点ではそのまま'sudo rosdp init'でいきなり初期化しているがこれだと存在しないとエラーが出る \n",
    "      > [rosdpをインストールする手順が変わったようです](https://memoteki.net/archives/2778)\n",
    "2. Install Tiago Tutorial Docker\n",
    "    - Dockerで環境ごと持ってくるパターン(やってない)\n",
    "3. Testing the simulation\n",
    "    - ~/tiago_public_ws/で実行(以降のコマンドも特に指定がなければそう)\n",
    "    - launch command:`roslaunch tiago_gazebo tiago_gazebo.launch public_sim:=true robot:=_value_`\n",
    "      - _value_ = steelとするとデフォルトの手\n",
    "      - _value_ = titaniumとすると指が5本ある手(Hey 5)"
   ]
  },
  {
   "cell_type": "markdown",
   "id": "2cad16af-425c-4978-a8a8-eec41e37bbbe",
   "metadata": {},
   "source": [
    "## 2. Control\n",
    "1. Teleoperating the mobile base with the keyboard\n",
    "    - command of launching simulation:`roslaunch tiago_gazebo tiago_gazebo.launch public_sim:=true robot:=titanium world:=simple_office_with_people`\n",
    "      - world:=以降の部分を変更するとシミュレーション空間が変わると考えられる\n",
    "      - ここではオフィス空間\n",
    "2. Moving the base throngh velocity commands\n",
    "    - command of running key_teleop:`rosrun key_teleop key_teleop.py`\n",
    "      - 矢印キーで操作\n",
    "      - 押し続けないと止まる"
   ]
  },
  {
   "cell_type": "markdown",
   "id": "b259535b-1a30-414f-8fdc-0fcd0f1a436c",
   "metadata": {},
   "source": [
    "3. Joint Trajectory Contoroller  \n",
    "    1. Available Interfaces\n",
    "        - Package:`joint_trajectory_controller`でTiagoの腕を動かすのに使う必要がある\n",
    "        - trajectoryを送るためにはActionを用いる方法とTopicを用いるものがあるが、どちらもtrajectoryを記述するのにmessage type:`trajectory_msgs/JointTrajectory`を用いる\n",
    "        - Tiagoのインターフェースは以下の3つが使える\n",
    "          1. Torso controller\n",
    "              - 胴体部分(角柱)の1関節をの上下をコントロールするのに使う\n",
    "              - Topic interface\n",
    "                  - topic:`/torso_controller/command`, massage:`trajectory_msgs/JointTrajectory`\n",
    "              - Action interface\n",
    "                  - `/torso_controller/follow_joint_trajectory`, msg:`control_msgs/FollowJointTrajectoryAction`\n",
    "          2. Head controller\n",
    "              - 頭の2関節をコントロールする\n",
    "              - Topic interface\n",
    "                  - topic:`head_controller/command`, massage:`trajectory_msgs/JointTrajectory`\n",
    "              - Action interface\n",
    "                  - `/head_controller/follow_joint_trajectory`, massage:`control_msgs_/Follow_joint_trajectory`\n",
    "          3. Arm controller\n",
    "              - 腕の7関節をコントロールする\n",
    "              - Topic interface\n",
    "                  - topic:`arm_controller/command`, massage:`trajectory_msgs/JointTrajectory`\n",
    "              - Action interface\n",
    "                  - `/arm_controller/follow_joint_trajectory`, massage:`control_msgs_/Follow_joint_trajectory`\n",
    "          4. Hey5 controller\n",
    "              - 研究で使わない\n",
    "              - Tiago titanium versionで手をコントロールする(手の3つのモーターの制御を行う)\n",
    "              - Topic interface\n",
    "                  - topic:`hand_controller/command`, massage:`trajectory_msgs/JointTrajectory`\n",
    "              - Action interface\n",
    "                  - `/hand_controller/follow_joint_trajectory`, massage:`control_msgs_/Follow_joint_trajectory`\n",
    "          5. Gripper controller\n",
    "              - Tiago steel versionで手のグリッパーをコントロールする\n",
    "              - Topic interface(並行したグリッパーの仮想関節、つまりグリッパーの指の分離を制御する)\n",
    "                  - topic:`parallel_gripper_controller/command`, massage:`trajectory_msgs/JointTrajectory`\n",
    "              - Action interface(グリッパーの指の分離を制御する)\n",
    "                  - `/parallel_gripper_controller/follow_joint_trajectory`, massage:`control_msgs_/Follow_joint_trajectory`\n",
    "              - Topic interface(グリッパーの2つのモーターを制御する、つまりそれぞれの指を別々に制御する)   \n",
    "    2. Execution  \n",
    "        1. Launching the simulation\n",
    "            - command:`roslaunch tiago_gazebo tiago_gazebo.launch public_sim:=true robot:=titanium world:empty`\n",
    "        2. Launching the node\n",
    "            - kinematicな設定にアクセスするwaypointを実行するノードは、`run_traj_control`(package:`tiago_trajectory_controller`)\n",
    "        3. Inspecting the node"
   ]
  },
  {
   "cell_type": "markdown",
   "id": "ee3171a2-2a7b-41fb-bb09-6fab232994c7",
   "metadata": {},
   "source": [
    "1. 番号付きリスト1\n",
    "    1. 番号付きリスト1_1\n",
    "    1. 番号付きリスト1_2\n",
    "1. 番号付きリスト2\n",
    "1. 番号付きリスト3"
   ]
  }
 ],
 "metadata": {
  "kernelspec": {
   "display_name": "Python 3 (ipykernel)",
   "language": "python",
   "name": "python3"
  },
  "language_info": {
   "codemirror_mode": {
    "name": "ipython",
    "version": 3
   },
   "file_extension": ".py",
   "mimetype": "text/x-python",
   "name": "python",
   "nbconvert_exporter": "python",
   "pygments_lexer": "ipython3",
   "version": "3.7.11"
  }
 },
 "nbformat": 4,
 "nbformat_minor": 5
}
