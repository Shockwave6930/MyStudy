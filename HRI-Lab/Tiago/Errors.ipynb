{
 "cells": [
  {
   "cell_type": "markdown",
   "id": "2fae5807-cbd3-4a7e-b6b8-50daa92b2c0f",
   "metadata": {},
   "source": [
    "gripper_left_finger_motor. disconnection detected\n",
    "Error reading actuators, error count is _number_"
   ]
  },
  {
   "cell_type": "markdown",
   "id": "53cd8387-92c7-4239-84a1-a757ce917a5e",
   "metadata": {},
   "source": [
    "1.8:並行、Success\n",
    "1.8:斜めsuccess\n",
    "1.8:並行、Success\n",
    "1.8:並行、Success、ただし、placeの実行中にダンボールに衝突\n",
    "1.8:斜め、Success\n",
    "1.8:並行、Success\n",
    "1.8:並行、Success\n",
    "3.0:並行、Failed(failed to plan)\n",
    "2.0:並行、Failed(failed to grasp)\n",
    "2.0:並行、Failed(failed to grasp)\n",
    "1.8:並行、Failed(failed to grasp)\n",
    "1.8:並行、Success\n",
    "1.8:並行、Failed(failed to grasp)"
   ]
  },
  {
   "cell_type": "markdown",
   "id": "154c1221-1c10-42c5-b280-6dda9900dab0",
   "metadata": {},
   "source": [
    "pick_final_pose:\n",
    "  torso_lift_joint:0.34\n",
    "  arm_1_joint:0.08\n",
    "  arm_2_joint:-0.2\n",
    "  arm_3_joint:-1.59\n",
    "  arm_4_joint:1.78\n",
    "  arm_5_joint:-2.01\n",
    "  arm_6_joint:1.04\n",
    "  arm_7_joint:-1.39"
   ]
  }
 ],
 "metadata": {
  "kernelspec": {
   "display_name": "Python 3 (ipykernel)",
   "language": "python",
   "name": "python3"
  },
  "language_info": {
   "codemirror_mode": {
    "name": "ipython",
    "version": 3
   },
   "file_extension": ".py",
   "mimetype": "text/x-python",
   "name": "python",
   "nbconvert_exporter": "python",
   "pygments_lexer": "ipython3",
   "version": "3.9.7"
  }
 },
 "nbformat": 4,
 "nbformat_minor": 5
}
