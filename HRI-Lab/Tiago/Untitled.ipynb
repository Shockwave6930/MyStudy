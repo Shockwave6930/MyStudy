{
 "cells": [
  {
   "cell_type": "markdown",
   "id": "39d76358-2bdb-41b0-9e67-c85d6e11da12",
   "metadata": {},
   "source": [
    "# TIAGo tutorial"
   ]
  },
  {
   "cell_type": "markdown",
   "id": "9c0c8fed-c173-4c7b-bd95-008a54fe578c",
   "metadata": {},
   "source": [
    "---"
   ]
  },
  {
   "cell_type": "markdown",
   "id": "967385d2-d285-491f-bc8e-c15f3354b25e",
   "metadata": {},
   "source": [
    "## Reference\n",
    " - [TIAGo Tutorial(ROS公式)](http://wiki.ros.org/Robots/TIAGo/Tutorials)\n",
    " - TIAGO_lang_en_GB_handbook-1.29.0-ferrum.pdf(マニュアル, 280ページからチュートリアルに言及)"
   ]
  },
  {
   "cell_type": "markdown",
   "id": "d262be44-9754-4272-b593-850ba11cae42",
   "metadata": {},
   "source": [
    "## Environment\n",
    " - OS:Ubuntu 18.04.5 LTS by using WSL2 on windows10\n",
    " - ROS distribution: melodic"
   ]
  },
  {
   "cell_type": "markdown",
   "id": "cb495c1c-2805-40a1-8647-f6007385bd42",
   "metadata": {},
   "source": [
    "---"
   ]
  },
  {
   "cell_type": "markdown",
   "id": "d04c71af-be3e-451d-a14e-f5a6d429ef38",
   "metadata": {
    "jp-MarkdownHeadingCollapsed": true,
    "tags": []
   },
   "source": [
    "## 1. Tutorial Installation\n",
    "1. Installing Ubuntu with ROS + TIAGO    \n",
    "    - rosdp packegeはmelodicインストール時に同時にインストールしてくれなくなったので別でインストールが必要 \n",
    "      - 現時点ではそのまま'sudo rosdp init'でいきなり初期化しているがこれだと存在しないとエラーが出る \n",
    "      > [rosdpをインストールする手順が変わったようです](https://memoteki.net/archives/2778)\n",
    "2. Install Tiago Tutorial Docker\n",
    "    - Dockerで環境ごと持ってくるパターン(やってない)\n",
    "3. Testing the simulation\n",
    "    - ~/tiag_public_ws/で実行(以降のコマンドも特に指定がなければそう)\n",
    "    - launch command:`roslaunch tiago_gazebo tiago_gazebo.launch public_sim:=true robot:=_value_`\n",
    "      - _value_ = steelとするとデフォルトの手\n",
    "      - _value_ = titaniumとすると指が5本ある手(Hey 5)"
   ]
  },
  {
   "cell_type": "markdown",
   "id": "b259535b-1a30-414f-8fdc-0fcd0f1a436c",
   "metadata": {},
   "source": [
    "## 2. Control\n",
    "1. Teleoperating the mobile base with the keyboard\n",
    "    - command of launching simulation:`roslaunch tiago_gazebo tiago_gazebo.launch public_sim:=true robot:=titanium world:=simple_office_with_people`\n",
    "      - world:=以降の部分を変更するとシミュレーション空間が変わると考えられる\n",
    "      - ここではオフィス空間\n",
    "2. Moving the base throngh velocity commands\n",
    "    - command of running key_teleop:`rosrun key_teleop key_teleop.py`\n",
    "      - 矢印キーで操作\n",
    "      - 押し続けないと止まる\n",
    "3. Joint Trajectory Contoroller\n"
   ]
  },
  {
   "cell_type": "markdown",
   "id": "ee3171a2-2a7b-41fb-bb09-6fab232994c7",
   "metadata": {},
   "source": [
    "1. 番号付きリスト1\n",
    "    1. 番号付きリスト1_1\n",
    "    1. 番号付きリスト1_2\n",
    "1. 番号付きリスト2\n",
    "1. 番号付きリスト3"
   ]
  }
 ],
 "metadata": {
  "kernelspec": {
   "display_name": "Python 3 (ipykernel)",
   "language": "python",
   "name": "python3"
  },
  "language_info": {
   "codemirror_mode": {
    "name": "ipython",
    "version": 3
   },
   "file_extension": ".py",
   "mimetype": "text/x-python",
   "name": "python",
   "nbconvert_exporter": "python",
   "pygments_lexer": "ipython3",
   "version": "3.7.11"
  }
 },
 "nbformat": 4,
 "nbformat_minor": 5
}
