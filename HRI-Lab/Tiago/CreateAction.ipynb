{
 "cells": [
  {
   "cell_type": "code",
   "execution_count": null,
   "id": "be29078d-33fb-4677-a31b-5f507ca6e68f",
   "metadata": {},
   "outputs": [],
   "source": [
    "arm_1:0.60\n",
    "arm_2:0.13\n",
    "arm_3:-1.63\n",
    "arm_4:1.41\n",
    "arm_5:-1.44\n",
    "arm_6:1.09\n",
    "arm_7:1.69\n",
    "torso_lift:0.15"
   ]
  },
  {
   "cell_type": "code",
   "execution_count": null,
   "id": "468cb2f3-1a10-4d71-9a1b-b28c7a061072",
   "metadata": {},
   "outputs": [],
   "source": [
    "arm_1:0.60\n",
    "arm_2:0.13\n",
    "arm_3:-1.63\n",
    "\n",
    "arm_4:1.41\n",
    "arm_5:-1.44\n",
    "arm_6:1.09\n",
    "arm_7:1.69\n",
    "torso_lift:0.15"
   ]
  },
  {
   "cell_type": "code",
   "execution_count": null,
   "id": "8986aa0c-fd08-4d59-a01f-f9648e324afe",
   "metadata": {},
   "outputs": [],
   "source": [
    "topic:/audio_2_micsに音の情報が流れてくる"
   ]
  }
 ],
 "metadata": {
  "kernelspec": {
   "display_name": "Python 3 (ipykernel)",
   "language": "python",
   "name": "python3"
  },
  "language_info": {
   "codemirror_mode": {
    "name": "ipython",
    "version": 3
   },
   "file_extension": ".py",
   "mimetype": "text/x-python",
   "name": "python",
   "nbconvert_exporter": "python",
   "pygments_lexer": "ipython3",
   "version": "3.9.7"
  }
 },
 "nbformat": 4,
 "nbformat_minor": 5
}
