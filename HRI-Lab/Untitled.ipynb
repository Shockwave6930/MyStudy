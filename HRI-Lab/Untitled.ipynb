{
 "cells": [
  {
   "cell_type": "markdown",
   "id": "a8101f8d-871f-4c7b-9b86-58537c71badb",
   "metadata": {},
   "source": [
    "## 2023/07/04\n",
    " - e2:最後の方に一回成功"
   ]
  },
  {
   "cell_type": "markdown",
   "id": "cb794d43-9442-490f-8fa2-21d257b1b566",
   "metadata": {},
   "source": [
    "## 2023/07/05\n",
    " - e3\n",
    "   - content data\n",
    "     - try:4\n",
    "     - result:1,1,0,1,audio controller脱落\n",
    "   - files\n",
    "     - front data file:`20230705_e3_0.wav`\n",
    "     - rear data file:`20230705_e3_1.wav`\n",
    "     - bag file:`20230705_e3.bag`\n",
    " - e4\n",
    "   - content data\n",
    "     - try:3 \n",
    "     - result:1,1,0,話し声,audio controller脱落\n",
    "   - files\n",
    "     - front data file:`20230705_e4_0.wav`\n",
    "     - rear data file:`20230705_e4_1.wav`\n",
    "     - bag file:`20230705_e4.bag`\n",
    " - e5\n",
    "   - content data\n",
    "     - try:6\n",
    "     - result:1,1,0,1,1,1\n",
    "   - files\n",
    "     - front data file:`20230705_e5_0.wav`\n",
    "       - record failed:empty file!!!!!!!!!!!!\n",
    "     - rear data file:`20230705_e5_1.wav`\n",
    "     - bag file:`20230705_e5.bag`"
   ]
  },
  {
   "cell_type": "markdown",
   "id": "0dd023dd-7e1a-420d-9052-bffc0709eded",
   "metadata": {},
   "source": [
    "- e6\n",
    "  - content data\n",
    "    - try:\n",
    "    - result:0,1,1,0,1,0,0,1\n",
    "48秒\n",
    "14秒"
   ]
  },
  {
   "cell_type": "markdown",
   "id": "f34101da-7668-4f4c-8841-b6ababc1f5a2",
   "metadata": {},
   "source": [
    "---"
   ]
  },
  {
   "cell_type": "markdown",
   "id": "d41a29f9-34fe-4616-b794-0fa2fc4def90",
   "metadata": {},
   "source": [
    "本実験"
   ]
  },
  {
   "cell_type": "code",
   "execution_count": null,
   "id": "b4b4d617-8d30-4acb-ab7b-1587508f6e67",
   "metadata": {},
   "outputs": [],
   "source": [
    "23回目記録なし"
   ]
  },
  {
   "cell_type": "code",
   "execution_count": null,
   "id": "9916a6f5-5b61-4487-b1de-24677ccffa1e",
   "metadata": {},
   "outputs": [],
   "source": [
    "グリッパーの手前側を開けて、内部の基盤を停めている4つのネジを外す。\n",
    "そしてその裏に3つケーブルがつながっているので、そこのコネクターの部分を確認してみる。今回はこれで治った。"
   ]
  }
 ],
 "metadata": {
  "kernelspec": {
   "display_name": "Python 3 (ipykernel)",
   "language": "python",
   "name": "python3"
  },
  "language_info": {
   "codemirror_mode": {
    "name": "ipython",
    "version": 3
   },
   "file_extension": ".py",
   "mimetype": "text/x-python",
   "name": "python",
   "nbconvert_exporter": "python",
   "pygments_lexer": "ipython3",
   "version": "3.7.16"
  }
 },
 "nbformat": 4,
 "nbformat_minor": 5
}
