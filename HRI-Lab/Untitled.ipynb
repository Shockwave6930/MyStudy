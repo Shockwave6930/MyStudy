{
 "cells": [
  {
   "cell_type": "markdown",
   "id": "a8101f8d-871f-4c7b-9b86-58537c71badb",
   "metadata": {},
   "source": [
    "## 2023/07/04\n",
    " - e2:最後の方に一回成功"
   ]
  },
  {
   "cell_type": "markdown",
   "id": "cb794d43-9442-490f-8fa2-21d257b1b566",
   "metadata": {},
   "source": [
    "## 2023/07/05\n",
    " - e3\n",
    "   - content data\n",
    "     - try:4\n",
    "     - result:1,1,0,1,audio controller脱落\n",
    "   - files\n",
    "     - front data file:`20230705_e3_0.wav`\n",
    "     - rear data file:`20230705_e3_1.wav`\n",
    "     - bag file:`20230705_e3.bag`\n",
    " - e4\n",
    "   - content data\n",
    "     - try:3 \n",
    "     - result:1,1,0,話し声,audio controller脱落\n",
    "   - files\n",
    "     - front data file:`20230705_e4_0.wav`\n",
    "     - rear data file:`20230705_e4_1.wav`\n",
    "     - bag file:`20230705_e4.bag`\n",
    " - e5\n",
    "   - content data\n",
    "     - try:6\n",
    "     - result:1,1,0,1,1,1\n",
    "   - files\n",
    "     - front data file:`20230705_e5_0.wav`\n",
    "       - record failed:empty file!!!!!!!!!!!!\n",
    "     - rear data file:`20230705_e5_1.wav`\n",
    "     - bag file:`20230705_e5.bag`"
   ]
  },
  {
   "cell_type": "code",
   "execution_count": null,
   "id": "1f65b6da-b205-403f-b5f1-69cb83e46e2c",
   "metadata": {},
   "outputs": [],
   "source": []
  }
 ],
 "metadata": {
  "kernelspec": {
   "display_name": "Python 3 (ipykernel)",
   "language": "python",
   "name": "python3"
  },
  "language_info": {
   "codemirror_mode": {
    "name": "ipython",
    "version": 3
   },
   "file_extension": ".py",
   "mimetype": "text/x-python",
   "name": "python",
   "nbconvert_exporter": "python",
   "pygments_lexer": "ipython3",
   "version": "3.7.16"
  }
 },
 "nbformat": 4,
 "nbformat_minor": 5
}
