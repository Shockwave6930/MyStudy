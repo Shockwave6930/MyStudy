{
 "cells": [
  {
   "cell_type": "markdown",
   "id": "c7a55485-55fd-48b7-97d2-e9d54f6ae1da",
   "metadata": {},
   "source": [
    "# 決定木:Decision Tree"
   ]
  },
  {
   "cell_type": "markdown",
   "id": "10765fec-d3d7-4938-aef6-f7548a9da08d",
   "metadata": {},
   "source": [
    "---"
   ]
  },
  {
   "cell_type": "code",
   "execution_count": null,
   "id": "0661f0d6-5209-442b-bd28-aebf6dfbd90a",
   "metadata": {},
   "outputs": [],
   "source": []
  }
 ],
 "metadata": {
  "kernelspec": {
   "display_name": "Python 3 (ipykernel)",
   "language": "python",
   "name": "python3"
  },
  "language_info": {
   "codemirror_mode": {
    "name": "ipython",
    "version": 3
   },
   "file_extension": ".py",
   "mimetype": "text/x-python",
   "name": "python",
   "nbconvert_exporter": "python",
   "pygments_lexer": "ipython3",
   "version": "3.7.11"
  }
 },
 "nbformat": 4,
 "nbformat_minor": 5
}
