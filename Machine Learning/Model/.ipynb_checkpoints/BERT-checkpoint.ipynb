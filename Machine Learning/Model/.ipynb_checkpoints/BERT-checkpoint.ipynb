{
 "cells": [
  {
   "cell_type": "markdown",
   "id": "4c1965b1-a88f-4fcb-b566-a6c7b88e093f",
   "metadata": {},
   "source": [
    "# BERT"
   ]
  },
  {
   "cell_type": "markdown",
   "id": "3068d36f-7e8d-4918-8c03-73c0534ba56f",
   "metadata": {},
   "source": [
    "---"
   ]
  },
  {
   "cell_type": "markdown",
   "id": "d40cadc9-8575-4d46-a767-20ca072a52e0",
   "metadata": {},
   "source": [
    "## Reference\n",
    ">[BERT Word Embeddings Tutorial](https://mccormickml.com/2019/05/14/BERT-word-embeddings-tutorial/#31-running-bert-on-our-text)"
   ]
  }
 ],
 "metadata": {
  "kernelspec": {
   "display_name": "Python 3 (ipykernel)",
   "language": "python",
   "name": "python3"
  },
  "language_info": {
   "codemirror_mode": {
    "name": "ipython",
    "version": 3
   },
   "file_extension": ".py",
   "mimetype": "text/x-python",
   "name": "python",
   "nbconvert_exporter": "python",
   "pygments_lexer": "ipython3",
   "version": "3.7.11"
  }
 },
 "nbformat": 4,
 "nbformat_minor": 5
}
