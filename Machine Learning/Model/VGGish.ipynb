{
 "cells": [
  {
   "cell_type": "markdown",
   "id": "0d68cfd5-2834-4050-9b3a-8517ea665693",
   "metadata": {},
   "source": [
    "# VGGish\n",
    "---"
   ]
  },
  {
   "cell_type": "markdown",
   "id": "6bc525de-a969-44e5-87f2-76a3a908755d",
   "metadata": {},
   "source": [
    "最優先でまとめる。"
   ]
  },
  {
   "cell_type": "code",
   "execution_count": null,
   "id": "c61fc5b1-ea22-463b-b404-2460bd996b22",
   "metadata": {},
   "outputs": [],
   "source": []
  }
 ],
 "metadata": {
  "kernelspec": {
   "display_name": "Python 3 (ipykernel)",
   "language": "python",
   "name": "python3"
  },
  "language_info": {
   "codemirror_mode": {
    "name": "ipython",
    "version": 3
   },
   "file_extension": ".py",
   "mimetype": "text/x-python",
   "name": "python",
   "nbconvert_exporter": "python",
   "pygments_lexer": "ipython3",
   "version": "3.7.11"
  }
 },
 "nbformat": 4,
 "nbformat_minor": 5
}
