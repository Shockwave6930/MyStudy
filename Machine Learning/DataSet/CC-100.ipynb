{
 "cells": [
  {
   "cell_type": "markdown",
   "id": "5ca372a1-5ba9-42c4-b46e-0d61c0003563",
   "metadata": {},
   "source": [
    "# CC100 corpus"
   ]
  },
  {
   "cell_type": "markdown",
   "id": "61363d31-1ee9-439a-81e8-679360239077",
   "metadata": {},
   "source": [
    "---"
   ]
  },
  {
   "cell_type": "markdown",
   "id": "701399a7-66a7-40f2-a132-cc0f359800ee",
   "metadata": {},
   "source": [
    "このコーパスは100以上の言語のモノリンガルデータで構成され、ローマ字表記言語（*_romで表示）のデータも含まれています。これは、CC-Netリポジトリから提供されたURLと段落インデックスを用いて、2018年1月から12月のCommoncrawlスナップショットを処理することで構築されたものです。  \n",
    "各ファイルは、二重改行で区切られた文書と、改行で区切られた同一文書内の段落で構成されている。  \n",
    "データは、オープンソースのCC-Netリポジトリを使用して生成されています。  \n",
    "コーパスの作成作業について、知的財産の主張をしていない。"
   ]
  },
  {
   "cell_type": "markdown",
   "id": "598b4a0e-805d-4ebb-bfdf-32d607cf247a",
   "metadata": {},
   "source": [
    "- データサイズがデカすぎて英語が82GB、日本語ですら15GBある\n",
    "- 基本的にGoogle Colaboratoryじゃないと厳しい、いや無理\n",
    "- BERTの多義語のベクトル表現を得るために使用としたが英語版を動かしたらColabのストレージ全部使い果たして断念\n",
    "- その時のColab用のコードを一応残しておく(日本語用)"
   ]
  },
  {
   "cell_type": "code",
   "execution_count": 1,
   "id": "94ff77f2-51cb-4e7c-8da0-3fbe8d62cf4b",
   "metadata": {},
   "outputs": [
    {
     "name": "stdout",
     "output_type": "stream",
     "text": [
      "zsh:1: command not found: wget\n",
      "Collecting backports.lzma\n",
      "  Downloading backports.lzma-0.0.14.tar.gz (47 kB)\n",
      "\u001b[K     |████████████████████████████████| 47 kB 3.0 MB/s eta 0:00:011\n",
      "\u001b[?25hBuilding wheels for collected packages: backports.lzma\n",
      "  Building wheel for backports.lzma (setup.py) ... \u001b[?25ldone\n",
      "\u001b[?25h  Created wheel for backports.lzma: filename=backports.lzma-0.0.14-cp37-cp37m-macosx_10_9_x86_64.whl size=23194 sha256=0082c5bdd3ec6af536456ad7717e2540d83def9353e923c1f73d5dbb4c53c6d4\n",
      "  Stored in directory: /Users/dan/Library/Caches/pip/wheels/68/33/3d/6ed3a4f4c21ec1fb36de4c2b770dbdc40032f2ddf515c19bb8\n",
      "Successfully built backports.lzma\n",
      "\u001b[33mWARNING: Error parsing requirements for fastjsonschema: [Errno 2] No such file or directory: '/opt/anaconda3/lib/python3.7/site-packages/fastjsonschema-2.15.3.dist-info/METADATA'\u001b[0m\n",
      "Installing collected packages: backports.lzma\n",
      "Successfully installed backports.lzma-0.0.14\n"
     ]
    },
    {
     "ename": "FileNotFoundError",
     "evalue": "[Errno 2] No such file or directory: 'ja.txt.xz'",
     "output_type": "error",
     "traceback": [
      "\u001b[0;31m---------------------------------------------------------------------------\u001b[0m",
      "\u001b[0;31mFileNotFoundError\u001b[0m                         Traceback (most recent call last)",
      "\u001b[0;32m/var/folders/s8/tlyzdqns4jj0ntsh9rc4fsyh0000gn/T/ipykernel_30809/1343936426.py\u001b[0m in \u001b[0;36m<module>\u001b[0;34m\u001b[0m\n\u001b[1;32m      4\u001b[0m \u001b[0msentence\u001b[0m \u001b[0;34m=\u001b[0m \u001b[0;34m[\u001b[0m\u001b[0;34m]\u001b[0m\u001b[0;34m\u001b[0m\u001b[0;34m\u001b[0m\u001b[0m\n\u001b[1;32m      5\u001b[0m \u001b[0msentence\u001b[0m\u001b[0;34m.\u001b[0m\u001b[0mappend\u001b[0m\u001b[0;34m(\u001b[0m\u001b[0;34m'[CLS]'\u001b[0m\u001b[0;34m)\u001b[0m \u001b[0;31m#BERT用(日本語BERTも英語BERTと同じだと思ってた)\u001b[0m\u001b[0;34m\u001b[0m\u001b[0;34m\u001b[0m\u001b[0m\n\u001b[0;32m----> 6\u001b[0;31m \u001b[0;32mwith\u001b[0m \u001b[0mlzma\u001b[0m\u001b[0;34m.\u001b[0m\u001b[0mopen\u001b[0m\u001b[0;34m(\u001b[0m\u001b[0;34m\"ja.txt.xz\"\u001b[0m\u001b[0;34m,\u001b[0m \u001b[0mmode\u001b[0m\u001b[0;34m=\u001b[0m\u001b[0;34m\"rt\"\u001b[0m\u001b[0;34m)\u001b[0m \u001b[0;32mas\u001b[0m \u001b[0mf\u001b[0m\u001b[0;34m:\u001b[0m \u001b[0;31m#ファイル解凍。全部展開してからwith openしてファイル開こうとするとストレージ使い切るからこうしてる。\u001b[0m\u001b[0;34m\u001b[0m\u001b[0;34m\u001b[0m\u001b[0m\n\u001b[0m\u001b[1;32m      7\u001b[0m     \u001b[0;32mfor\u001b[0m \u001b[0mi\u001b[0m \u001b[0;32min\u001b[0m \u001b[0mrange\u001b[0m\u001b[0;34m(\u001b[0m\u001b[0;36m185\u001b[0m\u001b[0;34m)\u001b[0m\u001b[0;34m:\u001b[0m\u001b[0;34m\u001b[0m\u001b[0;34m\u001b[0m\u001b[0m\n\u001b[1;32m      8\u001b[0m         \u001b[0mdata\u001b[0m \u001b[0;34m=\u001b[0m \u001b[0mf\u001b[0m\u001b[0;34m.\u001b[0m\u001b[0mreadline\u001b[0m\u001b[0;34m(\u001b[0m\u001b[0;34m)\u001b[0m\u001b[0;34m\u001b[0m\u001b[0;34m\u001b[0m\u001b[0m\n",
      "\u001b[0;32m/opt/anaconda3/lib/python3.7/site-packages/backports/lzma/__init__.py\u001b[0m in \u001b[0;36mopen\u001b[0;34m(filename, mode, format, check, preset, filters, encoding, errors, newline)\u001b[0m\n\u001b[1;32m    431\u001b[0m     \u001b[0mlz_mode\u001b[0m \u001b[0;34m=\u001b[0m \u001b[0mmode\u001b[0m\u001b[0;34m.\u001b[0m\u001b[0mreplace\u001b[0m\u001b[0;34m(\u001b[0m\u001b[0;34m\"t\"\u001b[0m\u001b[0;34m,\u001b[0m \u001b[0;34m\"\"\u001b[0m\u001b[0;34m)\u001b[0m\u001b[0;34m\u001b[0m\u001b[0;34m\u001b[0m\u001b[0m\n\u001b[1;32m    432\u001b[0m     binary_file = LZMAFile(filename, lz_mode, format=format, check=check,\n\u001b[0;32m--> 433\u001b[0;31m                            preset=preset, filters=filters)\n\u001b[0m\u001b[1;32m    434\u001b[0m \u001b[0;34m\u001b[0m\u001b[0m\n\u001b[1;32m    435\u001b[0m     \u001b[0;32mif\u001b[0m \u001b[0;34m\"t\"\u001b[0m \u001b[0;32min\u001b[0m \u001b[0mmode\u001b[0m\u001b[0;34m:\u001b[0m\u001b[0;34m\u001b[0m\u001b[0;34m\u001b[0m\u001b[0m\n",
      "\u001b[0;32m/opt/anaconda3/lib/python3.7/site-packages/backports/lzma/__init__.py\u001b[0m in \u001b[0;36m__init__\u001b[0;34m(self, filename, mode, format, check, preset, filters)\u001b[0m\n\u001b[1;32m    128\u001b[0m             \u001b[0;32mif\u001b[0m \u001b[0;34m\"b\"\u001b[0m \u001b[0;32mnot\u001b[0m \u001b[0;32min\u001b[0m \u001b[0mmode\u001b[0m\u001b[0;34m:\u001b[0m\u001b[0;34m\u001b[0m\u001b[0;34m\u001b[0m\u001b[0m\n\u001b[1;32m    129\u001b[0m                 \u001b[0mmode\u001b[0m \u001b[0;34m+=\u001b[0m \u001b[0;34m\"b\"\u001b[0m\u001b[0;34m\u001b[0m\u001b[0;34m\u001b[0m\u001b[0m\n\u001b[0;32m--> 130\u001b[0;31m             \u001b[0mself\u001b[0m\u001b[0;34m.\u001b[0m\u001b[0m_fp\u001b[0m \u001b[0;34m=\u001b[0m \u001b[0mio\u001b[0m\u001b[0;34m.\u001b[0m\u001b[0mopen\u001b[0m\u001b[0;34m(\u001b[0m\u001b[0mfilename\u001b[0m\u001b[0;34m,\u001b[0m \u001b[0mmode\u001b[0m\u001b[0;34m)\u001b[0m\u001b[0;34m\u001b[0m\u001b[0;34m\u001b[0m\u001b[0m\n\u001b[0m\u001b[1;32m    131\u001b[0m             \u001b[0mself\u001b[0m\u001b[0;34m.\u001b[0m\u001b[0m_closefp\u001b[0m \u001b[0;34m=\u001b[0m \u001b[0;32mTrue\u001b[0m\u001b[0;34m\u001b[0m\u001b[0;34m\u001b[0m\u001b[0m\n\u001b[1;32m    132\u001b[0m             \u001b[0mself\u001b[0m\u001b[0;34m.\u001b[0m\u001b[0m_mode\u001b[0m \u001b[0;34m=\u001b[0m \u001b[0mmode_code\u001b[0m\u001b[0;34m\u001b[0m\u001b[0;34m\u001b[0m\u001b[0m\n",
      "\u001b[0;31mFileNotFoundError\u001b[0m: [Errno 2] No such file or directory: 'ja.txt.xz'"
     ]
    }
   ],
   "source": [
    "!wget https://data.statmt.org/cc-100/ja.txt.xz\n",
    "!pip install backports.lzma\n",
    "from backports import lzma\n",
    "sentence = []\n",
    "sentence.append('[CLS]') #BERT用(日本語BERTも英語BERTと同じだと思ってた)\n",
    "with lzma.open(\"ja.txt.xz\", mode=\"rt\") as f: #ファイル解凍。全部展開してからwith openしてファイル開こうとするとストレージ使い切るからこうしてる。\n",
    "    for i in range(185):\n",
    "        data = f.readline()\n",
    "        if data == '':\n",
    "            break\n",
    "        if i < 91: #この時はとりあえず1つの文章(1文でない複数文のまとまり)を表示させたかったのでこうしたはず\n",
    "            continue\n",
    "        else:\n",
    "            data = data.replace(\"\\n\", \"\") #当然二重改行消えて文章の境界が分かりにくくなってるので注意\n",
    "            data = data.replace(\"\\u3000\", \"\") #日本語の中身を見てみるとなぜかこいつが現れるのでreplace\n",
    "            sentence.append(data)\n",
    "        if(i < 184):\n",
    "            sentence.append('[SEP]') #BERT用(日本語BERTも英語BERTと同じだと思ってた)"
   ]
  },
  {
   "cell_type": "markdown",
   "id": "011b295f-053c-4d45-a25c-0f73f1527977",
   "metadata": {},
   "source": [
    "## ダウンロード先\n",
    ">[公式 CC100 Dataset](https://data.statmt.org/cc-100/)"
   ]
  },
  {
   "cell_type": "code",
   "execution_count": null,
   "id": "3820bf55-c1a4-4b24-94d2-2cfbdd5e5070",
   "metadata": {},
   "outputs": [],
   "source": []
  }
 ],
 "metadata": {
  "kernelspec": {
   "display_name": "Python 3 (ipykernel)",
   "language": "python",
   "name": "python3"
  },
  "language_info": {
   "codemirror_mode": {
    "name": "ipython",
    "version": 3
   },
   "file_extension": ".py",
   "mimetype": "text/x-python",
   "name": "python",
   "nbconvert_exporter": "python",
   "pygments_lexer": "ipython3",
   "version": "3.7.15"
  }
 },
 "nbformat": 4,
 "nbformat_minor": 5
}
