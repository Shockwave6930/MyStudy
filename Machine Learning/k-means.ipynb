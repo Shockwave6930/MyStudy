{
 "cells": [
  {
   "cell_type": "markdown",
   "id": "240682c2-4e41-4359-85d4-62bbb4463194",
   "metadata": {},
   "source": [
    "# k平均法:k-means clustering"
   ]
  },
  {
   "cell_type": "markdown",
   "id": "bbd58838-1de8-430e-9822-8651b4a0e0d4",
   "metadata": {},
   "source": [
    "---"
   ]
  },
  {
   "cell_type": "markdown",
   "id": "96cc9564-b9dc-430e-bf1c-7a9d8ae9441a",
   "metadata": {},
   "source": [
    "References\n",
    ">[k-means法のpythonによる実装とクラスター数の決定方法 エルボー法、シルエット分析](https://laid-back-scientist.com/k-means)  \n",
    "[scikit-learn でクラスタ分析 (K-means 法)](https://pythondatascience.plavox.info/scikit-learn/%E3%82%AF%E3%83%A9%E3%82%B9%E3%82%BF%E5%88%86%E6%9E%90-k-means)"
   ]
  },
  {
   "cell_type": "code",
   "execution_count": null,
   "id": "8e8bf4cf-747c-4230-aed4-4e307fb9beed",
   "metadata": {},
   "outputs": [],
   "source": []
  }
 ],
 "metadata": {
  "kernelspec": {
   "display_name": "Python 3 (ipykernel)",
   "language": "python",
   "name": "python3"
  },
  "language_info": {
   "codemirror_mode": {
    "name": "ipython",
    "version": 3
   },
   "file_extension": ".py",
   "mimetype": "text/x-python",
   "name": "python",
   "nbconvert_exporter": "python",
   "pygments_lexer": "ipython3",
   "version": "3.7.11"
  }
 },
 "nbformat": 4,
 "nbformat_minor": 5
}
