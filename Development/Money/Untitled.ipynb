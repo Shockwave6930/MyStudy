{
 "cells": [
  {
   "cell_type": "code",
   "execution_count": 18,
   "id": "fb48857f-42eb-44de-bafa-155428776e85",
   "metadata": {},
   "outputs": [],
   "source": [
    "import numpy as np\n",
    "import pandas as pd\n",
    "import matplotlib.pyplot as plt\n",
    "import os\n",
    "import sys\n",
    "from selenium import webdriver\n",
    "from selenium.webdriver.chrome.service import Service\n",
    "from webdriver_manager.chrome import ChromeDriverManager\n",
    "from selenium.webdriver.common.by import By\n",
    "from time import sleep\n",
    "from dotenv import load_dotenv"
   ]
  },
  {
   "cell_type": "code",
   "execution_count": 15,
   "id": "e7c2778d-abc5-4993-a6e8-9adabf70507e",
   "metadata": {},
   "outputs": [],
   "source": [
    "EMAIL = \"dan.ohashi1152@gmail\"\n",
    "PASSWORD = \"nebraska1152\""
   ]
  },
  {
   "cell_type": "code",
   "execution_count": 17,
   "id": "1d854396-c3c4-498b-8cd1-aec02fdfb631",
   "metadata": {},
   "outputs": [
    {
     "name": "stdout",
     "output_type": "stream",
     "text": [
      "start login\n"
     ]
    },
    {
     "ename": "NoSuchElementException",
     "evalue": "Message: no such element: Unable to locate element: {\"method\":\"xpath\",\"selector\":\"/html/body/main/div/div/div/div/div[1]/section/form/div[2]/div/input\"}\n  (Session info: chrome=137.0.7151.104); For documentation on this error, please visit: https://www.selenium.dev/documentation/webdriver/troubleshooting/errors#no-such-element-exception\nStacktrace:\n\tGetHandleVerifier [0x0x303783+63299]\n\tGetHandleVerifier [0x0x3037c4+63364]\n\t(No symbol) [0x0x131113]\n\t(No symbol) [0x0x17987e]\n\t(No symbol) [0x0x179c1b]\n\t(No symbol) [0x0x1c2212]\n\t(No symbol) [0x0x19e5c4]\n\t(No symbol) [0x0x1bfa4a]\n\t(No symbol) [0x0x19e376]\n\t(No symbol) [0x0x16d6e0]\n\t(No symbol) [0x0x16e544]\n\tGetHandleVerifier [0x0x55e073+2531379]\n\tGetHandleVerifier [0x0x559372+2511666]\n\tGetHandleVerifier [0x0x329efa+220858]\n\tGetHandleVerifier [0x0x31a548+156936]\n\tGetHandleVerifier [0x0x320c7d+183357]\n\tGetHandleVerifier [0x0x30b6e8+95912]\n\tGetHandleVerifier [0x0x30b890+96336]\n\tGetHandleVerifier [0x0x2f666a+9770]\n\tBaseThreadInitThunk [0x0x76d65d49+25]\n\tRtlInitializeExceptionChain [0x0x7796d03b+107]\n\tRtlGetAppContainerNamedObjectPath [0x0x7796cfc1+561]\n\t(No symbol) [0x0]\n",
     "output_type": "error",
     "traceback": [
      "\u001b[1;31m---------------------------------------------------------------------------\u001b[0m",
      "\u001b[1;31mNoSuchElementException\u001b[0m                    Traceback (most recent call last)",
      "Cell \u001b[1;32mIn[17], line 25\u001b[0m\n\u001b[0;32m     22\u001b[0m sleep(\u001b[38;5;241m1\u001b[39m)\n\u001b[0;32m     24\u001b[0m \u001b[38;5;66;03m# Enter email\u001b[39;00m\n\u001b[1;32m---> 25\u001b[0m elem_loginMethod \u001b[38;5;241m=\u001b[39m \u001b[43mbrowser\u001b[49m\u001b[38;5;241;43m.\u001b[39;49m\u001b[43mfind_element\u001b[49m\u001b[43m(\u001b[49m\u001b[43mby\u001b[49m\u001b[38;5;241;43m=\u001b[39;49m\u001b[43mBy\u001b[49m\u001b[38;5;241;43m.\u001b[39;49m\u001b[43mXPATH\u001b[49m\u001b[43m,\u001b[49m\u001b[43m \u001b[49m\u001b[43mvalue\u001b[49m\u001b[38;5;241;43m=\u001b[39;49m\u001b[38;5;124;43m'\u001b[39;49m\u001b[38;5;124;43m/html/body/main/div/div/div/div/div[1]/section/form/div[2]/div/input\u001b[39;49m\u001b[38;5;124;43m'\u001b[39;49m\u001b[43m)\u001b[49m\n\u001b[0;32m     26\u001b[0m elem_loginMethod\u001b[38;5;241m.\u001b[39msend_keys(EMAIL)\n\u001b[0;32m     27\u001b[0m sleep(\u001b[38;5;241m1\u001b[39m)\n",
      "File \u001b[1;32m~\\Workspace\\Environment\\Anaconda\\envs\\Hyrein\\Lib\\site-packages\\selenium\\webdriver\\remote\\webdriver.py:914\u001b[0m, in \u001b[0;36mWebDriver.find_element\u001b[1;34m(self, by, value)\u001b[0m\n\u001b[0;32m    911\u001b[0m         \u001b[38;5;28;01mraise\u001b[39;00m NoSuchElementException(\u001b[38;5;124mf\u001b[39m\u001b[38;5;124m\"\u001b[39m\u001b[38;5;124mCannot locate relative element with: \u001b[39m\u001b[38;5;132;01m{\u001b[39;00mby\u001b[38;5;241m.\u001b[39mroot\u001b[38;5;132;01m}\u001b[39;00m\u001b[38;5;124m\"\u001b[39m)\n\u001b[0;32m    912\u001b[0m     \u001b[38;5;28;01mreturn\u001b[39;00m elements[\u001b[38;5;241m0\u001b[39m]\n\u001b[1;32m--> 914\u001b[0m \u001b[38;5;28;01mreturn\u001b[39;00m \u001b[38;5;28;43mself\u001b[39;49m\u001b[38;5;241;43m.\u001b[39;49m\u001b[43mexecute\u001b[49m\u001b[43m(\u001b[49m\u001b[43mCommand\u001b[49m\u001b[38;5;241;43m.\u001b[39;49m\u001b[43mFIND_ELEMENT\u001b[49m\u001b[43m,\u001b[49m\u001b[43m \u001b[49m\u001b[43m{\u001b[49m\u001b[38;5;124;43m\"\u001b[39;49m\u001b[38;5;124;43musing\u001b[39;49m\u001b[38;5;124;43m\"\u001b[39;49m\u001b[43m:\u001b[49m\u001b[43m \u001b[49m\u001b[43mby\u001b[49m\u001b[43m,\u001b[49m\u001b[43m \u001b[49m\u001b[38;5;124;43m\"\u001b[39;49m\u001b[38;5;124;43mvalue\u001b[39;49m\u001b[38;5;124;43m\"\u001b[39;49m\u001b[43m:\u001b[49m\u001b[43m \u001b[49m\u001b[43mvalue\u001b[49m\u001b[43m}\u001b[49m\u001b[43m)\u001b[49m[\u001b[38;5;124m\"\u001b[39m\u001b[38;5;124mvalue\u001b[39m\u001b[38;5;124m\"\u001b[39m]\n",
      "File \u001b[1;32m~\\Workspace\\Environment\\Anaconda\\envs\\Hyrein\\Lib\\site-packages\\selenium\\webdriver\\remote\\webdriver.py:447\u001b[0m, in \u001b[0;36mWebDriver.execute\u001b[1;34m(self, driver_command, params)\u001b[0m\n\u001b[0;32m    445\u001b[0m response \u001b[38;5;241m=\u001b[39m \u001b[38;5;28mself\u001b[39m\u001b[38;5;241m.\u001b[39mcommand_executor\u001b[38;5;241m.\u001b[39mexecute(driver_command, params)\n\u001b[0;32m    446\u001b[0m \u001b[38;5;28;01mif\u001b[39;00m response:\n\u001b[1;32m--> 447\u001b[0m     \u001b[38;5;28;43mself\u001b[39;49m\u001b[38;5;241;43m.\u001b[39;49m\u001b[43merror_handler\u001b[49m\u001b[38;5;241;43m.\u001b[39;49m\u001b[43mcheck_response\u001b[49m\u001b[43m(\u001b[49m\u001b[43mresponse\u001b[49m\u001b[43m)\u001b[49m\n\u001b[0;32m    448\u001b[0m     response[\u001b[38;5;124m\"\u001b[39m\u001b[38;5;124mvalue\u001b[39m\u001b[38;5;124m\"\u001b[39m] \u001b[38;5;241m=\u001b[39m \u001b[38;5;28mself\u001b[39m\u001b[38;5;241m.\u001b[39m_unwrap_value(response\u001b[38;5;241m.\u001b[39mget(\u001b[38;5;124m\"\u001b[39m\u001b[38;5;124mvalue\u001b[39m\u001b[38;5;124m\"\u001b[39m, \u001b[38;5;28;01mNone\u001b[39;00m))\n\u001b[0;32m    449\u001b[0m     \u001b[38;5;28;01mreturn\u001b[39;00m response\n",
      "File \u001b[1;32m~\\Workspace\\Environment\\Anaconda\\envs\\Hyrein\\Lib\\site-packages\\selenium\\webdriver\\remote\\errorhandler.py:232\u001b[0m, in \u001b[0;36mErrorHandler.check_response\u001b[1;34m(self, response)\u001b[0m\n\u001b[0;32m    230\u001b[0m         alert_text \u001b[38;5;241m=\u001b[39m value[\u001b[38;5;124m\"\u001b[39m\u001b[38;5;124malert\u001b[39m\u001b[38;5;124m\"\u001b[39m]\u001b[38;5;241m.\u001b[39mget(\u001b[38;5;124m\"\u001b[39m\u001b[38;5;124mtext\u001b[39m\u001b[38;5;124m\"\u001b[39m)\n\u001b[0;32m    231\u001b[0m     \u001b[38;5;28;01mraise\u001b[39;00m exception_class(message, screen, stacktrace, alert_text)  \u001b[38;5;66;03m# type: ignore[call-arg]  # mypy is not smart enough here\u001b[39;00m\n\u001b[1;32m--> 232\u001b[0m \u001b[38;5;28;01mraise\u001b[39;00m exception_class(message, screen, stacktrace)\n",
      "\u001b[1;31mNoSuchElementException\u001b[0m: Message: no such element: Unable to locate element: {\"method\":\"xpath\",\"selector\":\"/html/body/main/div/div/div/div/div[1]/section/form/div[2]/div/input\"}\n  (Session info: chrome=137.0.7151.104); For documentation on this error, please visit: https://www.selenium.dev/documentation/webdriver/troubleshooting/errors#no-such-element-exception\nStacktrace:\n\tGetHandleVerifier [0x0x303783+63299]\n\tGetHandleVerifier [0x0x3037c4+63364]\n\t(No symbol) [0x0x131113]\n\t(No symbol) [0x0x17987e]\n\t(No symbol) [0x0x179c1b]\n\t(No symbol) [0x0x1c2212]\n\t(No symbol) [0x0x19e5c4]\n\t(No symbol) [0x0x1bfa4a]\n\t(No symbol) [0x0x19e376]\n\t(No symbol) [0x0x16d6e0]\n\t(No symbol) [0x0x16e544]\n\tGetHandleVerifier [0x0x55e073+2531379]\n\tGetHandleVerifier [0x0x559372+2511666]\n\tGetHandleVerifier [0x0x329efa+220858]\n\tGetHandleVerifier [0x0x31a548+156936]\n\tGetHandleVerifier [0x0x320c7d+183357]\n\tGetHandleVerifier [0x0x30b6e8+95912]\n\tGetHandleVerifier [0x0x30b890+96336]\n\tGetHandleVerifier [0x0x2f666a+9770]\n\tBaseThreadInitThunk [0x0x76d65d49+25]\n\tRtlInitializeExceptionChain [0x0x7796d03b+107]\n\tRtlGetAppContainerNamedObjectPath [0x0x7796cfc1+561]\n\t(No symbol) [0x0]\n"
     ]
    }
   ],
   "source": [
    "# Load .env file\n",
    "load_dotenv()\n",
    "\n",
    "#EMAIL = os.environ[email]\n",
    "#PASSWORD = os.environ[password]\n",
    "\n",
    "# Define browser\n",
    "#options = webdriver.ChromeOptions()\n",
    "#print(options)\n",
    "#browser = webdriver.Chrome(\n",
    "#    ChromeDriverManager().install(),\n",
    "#    options=options\n",
    "#)\n",
    "service = Service(executable_path=ChromeDriverManager().install())\n",
    "browser = webdriver.Chrome(options=options, service=service)\n",
    "\n",
    "print('start login')\n",
    "\n",
    "# Jump to email sing-in page\n",
    "url = 'https://ssnb.x.moneyforward.com/users/sign_in'\n",
    "browser.get(url)\n",
    "sleep(1)\n",
    "\n",
    "# Enter email\n",
    "elem_loginMethod = browser.find_element(by=By.XPATH, value='/html/body/main/div/div/div/div/div[1]/section/form/div[2]/div/input')\n",
    "elem_loginMethod.send_keys(EMAIL)\n",
    "sleep(1)\n",
    "\n",
    "# Click login\n",
    "elem_login1 = browser.find_element(by=By.XPATH, value='/html/body/main/div/div/div/div/div[1]/section/form/div[2]/div/div[3]/input')\n",
    "elem_login1.click()\n",
    "sleep(1)\n",
    "\n",
    "# Enter password\n",
    "elem_password = browser.find_element(by=By.XPATH, value='/html/body/main/div/div/div/div/div[1]/section/form/div[2]/div/input[2]')\n",
    "elem_password.send_keys(PASSWORD)\n",
    "sleep(1)\n",
    "\n",
    "# Click login\n",
    "elem_login2 = browser.find_element(by=By.XPATH, value='/html/body/main/div/div/div/div/div[1]/section/form/div[2]/div/div[3]/input')\n",
    "elem_login2.click()\n",
    "sleep(1)\n",
    "\n",
    "# Click forwardme\n",
    "elem_login3 = browser.find_element(by=By.XPATH, value='/html/body/main/div/div[2]/div/div[1]/div/ul/li[2]/a')\n",
    "elem_login3.click()\n",
    "sleep(1)\n",
    "\n",
    "# Click login\n",
    "elem_login4 = browser.find_element(by=By.XPATH, value='/html/body/main/div/div/div/div/div[1]/section/form/div[2]/div/div[2]/input')\n",
    "elem_login4.click()\n",
    "sleep(1)\n",
    "\n",
    "# Click Group\n",
    "elem_group = browser.find_element(by=By.XPATH, value='//*[@id=\"group_id_hash\"]/option[3]')\n",
    "elem_group.click()\n",
    "sleep(1)\n",
    "\n",
    "# 資産タブに移動\n",
    "elem_portfolio = browser.find_element(by=By.XPATH, value='//*[@id=\"header-container\"]/header/div[2]/ul/li[4]/a')\n",
    "elem_portfolio.click()\n",
    "sleep(1)"
   ]
  },
  {
   "cell_type": "code",
   "execution_count": null,
   "id": "5d34b1ac-14fb-4e18-90c1-f80d6f9d500b",
   "metadata": {},
   "outputs": [],
   "source": []
  }
 ],
 "metadata": {
  "kernelspec": {
   "display_name": "Hyrein",
   "language": "python",
   "name": "hyrein"
  },
  "language_info": {
   "codemirror_mode": {
    "name": "ipython",
    "version": 3
   },
   "file_extension": ".py",
   "mimetype": "text/x-python",
   "name": "python",
   "nbconvert_exporter": "python",
   "pygments_lexer": "ipython3",
   "version": "3.12.11"
  }
 },
 "nbformat": 4,
 "nbformat_minor": 5
}
