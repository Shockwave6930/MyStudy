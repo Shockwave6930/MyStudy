{
 "cells": [
  {
   "cell_type": "markdown",
   "id": "ac7d5307-d243-4b4c-ba8c-584dc3329fe3",
   "metadata": {},
   "source": [
    "# t分布型確率的近傍埋め込み法:\n",
    "# T-distributed Stochastic Neighbor Embedding(t-SNE)"
   ]
  },
  {
   "cell_type": "markdown",
   "id": "f41d7424-ed6e-4c43-94c7-65e210a50021",
   "metadata": {},
   "source": [
    "なるはやで纏める。\n",
    "研究の方でUMAPも使ってみたいので可能であればそっちもやる。\n",
    "とりあえずはVGGishとt-SNEを"
   ]
  },
  {
   "cell_type": "markdown",
   "id": "e295f426-e870-48ff-b550-9519078dce21",
   "metadata": {},
   "source": [
    "---"
   ]
  },
  {
   "cell_type": "markdown",
   "id": "b3656b41-15a7-408c-a2b4-ba99727a0c29",
   "metadata": {},
   "source": [
    "## References\n",
    ">[t-SNEを理解して可視化力を高める](https://qiita.com/g-k/items/120f1cf85ff2ceae4aba)"
   ]
  },
  {
   "cell_type": "code",
   "execution_count": null,
   "id": "3a20f850-6887-426f-9a73-505b221bb803",
   "metadata": {},
   "outputs": [],
   "source": []
  }
 ],
 "metadata": {
  "kernelspec": {
   "display_name": "Python 3 (ipykernel)",
   "language": "python",
   "name": "python3"
  },
  "language_info": {
   "codemirror_mode": {
    "name": "ipython",
    "version": 3
   },
   "file_extension": ".py",
   "mimetype": "text/x-python",
   "name": "python",
   "nbconvert_exporter": "python",
   "pygments_lexer": "ipython3",
   "version": "3.7.11"
  }
 },
 "nbformat": 4,
 "nbformat_minor": 5
}
