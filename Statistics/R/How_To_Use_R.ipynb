{
 "cells": [
  {
   "cell_type": "markdown",
   "id": "9bca36b9-022e-466b-a40c-657bb1045d13",
   "metadata": {},
   "source": [
    "# How to use R"
   ]
  },
  {
   "cell_type": "markdown",
   "id": "f3a867c8-aba7-48cf-a8e1-7ad8c4e23823",
   "metadata": {},
   "source": [
    "---"
   ]
  },
  {
   "cell_type": "code",
   "execution_count": null,
   "id": "ead6b2f9-26dd-4dbb-9f48-f82a3967c340",
   "metadata": {},
   "outputs": [],
   "source": []
  },
  {
   "cell_type": "markdown",
   "id": "0df4d1d1-11b4-4d2b-88cd-56c16b1bccff",
   "metadata": {},
   "source": [
    "## Dataset"
   ]
  },
  {
   "cell_type": "markdown",
   "id": "9aaf8f1f-3a57-43bd-9b74-e4afafdd8909",
   "metadata": {},
   "source": [
    "\"iris\", \"airquality\"はデフォルトで入っている例題用のデータセット"
   ]
  },
  {
   "cell_type": "code",
   "execution_count": null,
   "id": "883670e1-e679-4094-90c5-fb28a94b0314",
   "metadata": {},
   "outputs": [],
   "source": [
    "head(iris) #head()で上から6番目まで表示"
   ]
  },
  {
   "cell_type": "code",
   "execution_count": 17,
   "id": "16c7970f-bf75-4895-9d79-bc455d3ed481",
   "metadata": {},
   "outputs": [
    {
     "data": {
      "text/html": [
       "<table>\n",
       "<thead><tr><th scope=col>Ozone</th><th scope=col>Solar.R</th><th scope=col>Wind</th><th scope=col>Temp</th><th scope=col>Month</th><th scope=col>Day</th><th scope=col>date</th></tr></thead>\n",
       "<tbody>\n",
       "\t<tr><td>41        </td><td>190       </td><td> 7.4      </td><td>67        </td><td>5         </td><td>1         </td><td>1973-05-01</td></tr>\n",
       "\t<tr><td>36        </td><td>118       </td><td> 8.0      </td><td>72        </td><td>5         </td><td>2         </td><td>1973-05-02</td></tr>\n",
       "\t<tr><td>12        </td><td>149       </td><td>12.6      </td><td>74        </td><td>5         </td><td>3         </td><td>1973-05-03</td></tr>\n",
       "\t<tr><td>18        </td><td>313       </td><td>11.5      </td><td>62        </td><td>5         </td><td>4         </td><td>1973-05-04</td></tr>\n",
       "\t<tr><td>NA        </td><td> NA       </td><td>14.3      </td><td>56        </td><td>5         </td><td>5         </td><td>1973-05-05</td></tr>\n",
       "\t<tr><td>28        </td><td> NA       </td><td>14.9      </td><td>66        </td><td>5         </td><td>6         </td><td>1973-05-06</td></tr>\n",
       "</tbody>\n",
       "</table>\n"
      ],
      "text/latex": [
       "\\begin{tabular}{r|lllllll}\n",
       " Ozone & Solar.R & Wind & Temp & Month & Day & date\\\\\n",
       "\\hline\n",
       "\t 41         & 190        &  7.4       & 67         & 5          & 1          & 1973-05-01\\\\\n",
       "\t 36         & 118        &  8.0       & 72         & 5          & 2          & 1973-05-02\\\\\n",
       "\t 12         & 149        & 12.6       & 74         & 5          & 3          & 1973-05-03\\\\\n",
       "\t 18         & 313        & 11.5       & 62         & 5          & 4          & 1973-05-04\\\\\n",
       "\t NA         &  NA        & 14.3       & 56         & 5          & 5          & 1973-05-05\\\\\n",
       "\t 28         &  NA        & 14.9       & 66         & 5          & 6          & 1973-05-06\\\\\n",
       "\\end{tabular}\n"
      ],
      "text/markdown": [
       "\n",
       "| Ozone | Solar.R | Wind | Temp | Month | Day | date |\n",
       "|---|---|---|---|---|---|---|\n",
       "| 41         | 190        |  7.4       | 67         | 5          | 1          | 1973-05-01 |\n",
       "| 36         | 118        |  8.0       | 72         | 5          | 2          | 1973-05-02 |\n",
       "| 12         | 149        | 12.6       | 74         | 5          | 3          | 1973-05-03 |\n",
       "| 18         | 313        | 11.5       | 62         | 5          | 4          | 1973-05-04 |\n",
       "| NA         |  NA        | 14.3       | 56         | 5          | 5          | 1973-05-05 |\n",
       "| 28         |  NA        | 14.9       | 66         | 5          | 6          | 1973-05-06 |\n",
       "\n"
      ],
      "text/plain": [
       "  Ozone Solar.R Wind Temp Month Day date      \n",
       "1 41    190      7.4 67   5     1   1973-05-01\n",
       "2 36    118      8.0 72   5     2   1973-05-02\n",
       "3 12    149     12.6 74   5     3   1973-05-03\n",
       "4 18    313     11.5 62   5     4   1973-05-04\n",
       "5 NA     NA     14.3 56   5     5   1973-05-05\n",
       "6 28     NA     14.9 66   5     6   1973-05-06"
      ]
     },
     "metadata": {},
     "output_type": "display_data"
    }
   ],
   "source": [
    "head(airquality)"
   ]
  },
  {
   "cell_type": "markdown",
   "id": "a8c54974-7f32-418e-92a0-b5e01993d8aa",
   "metadata": {},
   "source": [
    "## Data Type"
   ]
  },
  {
   "cell_type": "markdown",
   "id": "09ebe068-dd31-44b9-9442-2a9443feca12",
   "metadata": {},
   "source": [
    "追記する"
   ]
  },
  {
   "cell_type": "markdown",
   "id": "d7595b9d-e6c4-456b-b2f0-fca3f304e5c6",
   "metadata": {},
   "source": [
    "## Distribution and Calculation involved in Distribution"
   ]
  },
  {
   "cell_type": "markdown",
   "id": "29f44cb2-ea2b-4aeb-8ff4-89380ee685b4",
   "metadata": {},
   "source": [
    "1. 正規分布"
   ]
  },
  {
   "cell_type": "markdown",
   "id": "3670ac81-0d46-47ff-a3c7-fdef12c5a834",
   "metadata": {},
   "source": [
    "- 正規分布に従う乱数生成"
   ]
  },
  {
   "cell_type": "markdown",
   "id": "cbe51811-f5c7-494c-b25b-d6015509f683",
   "metadata": {},
   "source": [
    "`rnorm(n=_number_of_samples_, mean=_mean_, sd=_standard_deviation_)`"
   ]
  },
  {
   "cell_type": "code",
   "execution_count": 26,
   "id": "236f2556-53fc-4d52-9153-b4ce640bf7c7",
   "metadata": {},
   "outputs": [
    {
     "data": {
      "image/png": "[encoded data removed]",
      "text/plain": [
       "Plot with title \"Histogram of z\""
      ]
     },
     "metadata": {
      "image/png": {
       "height": 420,
       "width": 420
      }
     },
     "output_type": "display_data"
    }
   ],
   "source": [
    "z <- rnorm(n=1000, mean=0, sd=1)\n",
    "\n",
    "hist(z, xlim=c(-5, 5), freq=F, ylim=c(0, 0.4))\n",
    "x <- seq(-5, 5, 0.05)\n",
    "lines(x, dnorm(x, mean=0, sd=1), type=\"l\", col=\"blue\")"
   ]
  },
  {
   "cell_type": "markdown",
   "id": "8c948859-27de-49a9-b666-b59a20e40fa5",
   "metadata": {},
   "source": [
    "- 正規分布における値に対する確率密度関数の値"
   ]
  },
  {
   "cell_type": "markdown",
   "id": "e327b7cc-85e7-45a6-a5d9-5c08cf2c0537",
   "metadata": {},
   "source": [
    "`dnorm(_value_ (/, mean=_mean_)(/, sd=_standard_deviation_))`"
   ]
  },
  {
   "cell_type": "code",
   "execution_count": 28,
   "id": "fd21ceb6-c89d-4fd1-90e0-2de34f830f16",
   "metadata": {},
   "outputs": [
    {
     "data": {
      "text/html": [
       "0.398942280401433"
      ],
      "text/latex": [
       "0.398942280401433"
      ],
      "text/markdown": [
       "0.398942280401433"
      ],
      "text/plain": [
       "[1] 0.3989423"
      ]
     },
     "metadata": {},
     "output_type": "display_data"
    }
   ],
   "source": [
    "dnorm(0)"
   ]
  },
  {
   "cell_type": "markdown",
   "id": "7523b1d2-7d9f-42cb-8595-73d23a646dc2",
   "metadata": {},
   "source": [
    "- 正規分布における下側/上側確率"
   ]
  },
  {
   "cell_type": "markdown",
   "id": "efee9be5-6b84-4a00-9524-86d1c724d9c0",
   "metadata": {},
   "source": [
    "下側確率: `pnorm(_value_, mean=_mean_, sd=_standard_deviation_)`  \n",
    "上側確率: `pnorm(_value_, mean=_mean_, sd=_standard_deviation_, lower.tail=F)`"
   ]
  },
  {
   "cell_type": "code",
   "execution_count": 31,
   "id": "f2d394ba-e8e7-4a79-b53f-6ff4050e34c0",
   "metadata": {},
   "outputs": [
    {
     "data": {
      "text/html": [
       "0.682689492137086"
      ],
      "text/latex": [
       "0.682689492137086"
      ],
      "text/markdown": [
       "0.682689492137086"
      ],
      "text/plain": [
       "[1] 0.6826895"
      ]
     },
     "metadata": {},
     "output_type": "display_data"
    }
   ],
   "source": [
    "lower = pnorm(-1, mean=0, sd=1) #-∞ < x < -1の累積確率(1より左のの下側確率)\n",
    "upper = pnorm(1, mean=0, sd=1, lower.tail=F) #1 < x < ∞の累積確率(1より右の上側確率)\n",
    "1 - lower - upper #1シグマ以内にそのデータが存在している確率"
   ]
  },
  {
   "cell_type": "markdown",
   "id": "eff0fb2b-d3bb-499d-a733-ec9827c95e75",
   "metadata": {},
   "source": [
    "- 正規分布において累積確率(面積)を与えて、下側確率がその累積確率に一致する値を求める"
   ]
  },
  {
   "cell_type": "markdown",
   "id": "815002c4-f7a8-4331-9574-c1425c4a6b34",
   "metadata": {},
   "source": [
    "`qnorm(_value_)`"
   ]
  },
  {
   "cell_type": "code",
   "execution_count": 34,
   "id": "331203cd-caf8-4994-b487-95ae075631d8",
   "metadata": {},
   "outputs": [
    {
     "data": {
      "text/html": [
       "3.09023230616781"
      ],
      "text/latex": [
       "3.09023230616781"
      ],
      "text/markdown": [
       "3.09023230616781"
      ],
      "text/plain": [
       "[1] 3.090232"
      ]
     },
     "metadata": {},
     "output_type": "display_data"
    },
    {
     "data": {
      "text/html": [
       "0"
      ],
      "text/latex": [
       "0"
      ],
      "text/markdown": [
       "0"
      ],
      "text/plain": [
       "[1] 0"
      ]
     },
     "metadata": {},
     "output_type": "display_data"
    }
   ],
   "source": [
    "qnorm(0.999)\n",
    "qnorm(0.5)"
   ]
  },
  {
   "cell_type": "code",
   "execution_count": null,
   "id": "a5f1dc17-2743-4e51-bcab-fb9f63658bc4",
   "metadata": {},
   "outputs": [],
   "source": []
  },
  {
   "cell_type": "markdown",
   "id": "6a5be3d2-0070-4d62-9dfc-5916e33dc38e",
   "metadata": {},
   "source": [
    "## Function"
   ]
  },
  {
   "cell_type": "markdown",
   "id": "43e57c58-c258-4c4c-83d6-28ba8e0e46a7",
   "metadata": {},
   "source": [
    "- `subset(_dataframe_, _constraints_)`    \n",
    "explanation:データフレームから条件を用いてその一部を抽出する"
   ]
  },
  {
   "cell_type": "code",
   "execution_count": 3,
   "id": "0a77a9e9-5b66-4842-a51e-750709399ec4",
   "metadata": {},
   "outputs": [],
   "source": [
    "setosa <- subset(iris, iris$Species==\"setosa\")\n",
    "versicolor <- subset(iris, iris$Species==\"versicolor\")\n",
    "virginica <- subset(iris, iris$Species==\"virginica\")"
   ]
  },
  {
   "cell_type": "markdown",
   "id": "520dc98e-fb7a-433f-a594-1836b51a9f4e",
   "metadata": {},
   "source": [
    "## Figure"
   ]
  },
  {
   "cell_type": "markdown",
   "id": "4d34d023-40ae-42aa-8382-729e053cf091",
   "metadata": {},
   "source": [
    "- 散布図"
   ]
  },
  {
   "cell_type": "markdown",
   "id": "84521028-984b-4736-bc63-a942cbb94f6a",
   "metadata": {},
   "source": [
    "`plot(_data_x_~_data_y_, data=_dataframe_, pch=_number_, col=_color_name_)`"
   ]
  },
  {
   "cell_type": "code",
   "execution_count": 18,
   "id": "a7b7e29d-ce3f-4214-bc10-045df9069c4d",
   "metadata": {},
   "outputs": [
    {
     "data": {
      "image/png": "[encoded data removed]",
      "text/plain": [
       "plot without title"
      ]
     },
     "metadata": {
      "image/png": {
       "height": 420,
       "width": 420
      }
     },
     "output_type": "display_data"
    }
   ],
   "source": [
    "plot(Sepal.Length~Sepal.Width, data=setosa, pch=16, col=\"blue\") #_dataframe_.attribute1~_dataframe_.attribute2でx,yを同時に指定できる"
   ]
  },
  {
   "cell_type": "markdown",
   "id": "bd9e0a1d-bac8-4534-882c-8044c8e2c2e5",
   "metadata": {},
   "source": [
    "pchについては以下のように現状では25個用意されている"
   ]
  },
  {
   "cell_type": "code",
   "execution_count": 13,
   "id": "b644423a-3b7d-4057-b6bc-8524422e7c50",
   "metadata": {},
   "outputs": [
    {
     "name": "stderr",
     "output_type": "stream",
     "text": [
      "Warning message in plot.xy(xy, type, ...):\n",
      "\" pch の値 '26' は未実装です \"\n",
      "Warning message in plot.xy(xy, type, ...):\n",
      "\" pch の値 '27' は未実装です \"\n",
      "Warning message in plot.xy(xy, type, ...):\n",
      "\" pch の値 '28' は未実装です \"\n",
      "Warning message in plot.xy(xy, type, ...):\n",
      "\" pch の値 '29' は未実装です \"\n",
      "Warning message in plot.xy(xy, type, ...):\n",
      "\" pch の値 '30' は未実装です \"\n"
     ]
    },
    {
     "data": {
      "image/png": "[encoded data removed]",
      "text/plain": [
       "plot without title"
      ]
     },
     "metadata": {
      "image/png": {
       "height": 420,
       "width": 420
      }
     },
     "output_type": "display_data"
    }
   ],
   "source": [
    "v1 <- rep(1:10, 3)\n",
    "v2 <- rep(1:3, each=10)\n",
    "plot(v1, v2, pch=1:30)"
   ]
  },
  {
   "cell_type": "markdown",
   "id": "14f9dc71-0f7e-4fb0-92de-e72d29f41d96",
   "metadata": {},
   "source": [
    "- 折れ線グラフ"
   ]
  },
  {
   "cell_type": "markdown",
   "id": "9077f6da-ae34-4e72-bb16-566fc72e6bc7",
   "metadata": {},
   "source": [
    "`plot(_data_y_~_data_x_, data=_dataframe_, pch=_number_, type=_type_)`  \n",
    "type=“l”:線で連結  \n",
    "type=“b”:点を表示し、線で連結  \n",
    "type=“o”:点を表示し、線を重ねる  \n",
    "（デフォルトは点のみ）"
   ]
  },
  {
   "cell_type": "code",
   "execution_count": 19,
   "id": "83f52a96-1f92-4619-8466-1ddd3790c8eb",
   "metadata": {},
   "outputs": [
    {
     "data": {
      "image/png": "[encoded data removed]",
      "text/plain": [
       "plot without title"
      ]
     },
     "metadata": {
      "image/png": {
       "height": 420,
       "width": 420
      }
     },
     "output_type": "display_data"
    }
   ],
   "source": [
    "#Rの例題データairqualityからオゾン量の変化をプロット（1973年5月1日～9月30日）\n",
    "airquality$date <- with(airquality, as.Date(paste(\"1973\", Month, Day, sep=\"-\")))\n",
    "plot(Ozone~date, data=airquality, pch=15, type=\"o\")"
   ]
  },
  {
   "cell_type": "markdown",
   "id": "d7f85fa7-e41f-4043-b88f-f45edb1059ff",
   "metadata": {},
   "source": [
    "- 箱ひげ図"
   ]
  },
  {
   "cell_type": "markdown",
   "id": "af0c9764-f1a4-4619-b24d-b5b108432337",
   "metadata": {},
   "source": [
    "`boxplot(_data1_, _data2_, _data3_, names=c(_name1_, _name2_, _name3_), main=_Figure_Title_, xlab=_X_label_name_, ylab=_Y_label_name_)`  \n",
    "最大値:Q1 + 1.5xIQR  \n",
    "最小値:Q1 - 1.5xIQR  \n",
    "Q1:第一四分位点  \n",
    "Q2:中央値  \n",
    "Q3:第三四分位点  \n",
    "IQR:四分位範囲(Q3 - Q1)"
   ]
  },
  {
   "cell_type": "code",
   "execution_count": 4,
   "id": "8d199a3b-5e7c-496c-be9e-4a086537cf10",
   "metadata": {},
   "outputs": [
    {
     "data": {
      "image/png": "[encoded data removed]",
      "text/plain": [
       "Plot with title \"Sepal Length of each species\""
      ]
     },
     "metadata": {
      "image/png": {
       "height": 420,
       "width": 420
      }
     },
     "output_type": "display_data"
    }
   ],
   "source": [
    "boxplot(setosa$Sepal.Length, versicolor$Sepal.Length, virginica$Sepal.Length, names=c(\"setosa\", \"versicolor\", \"virginica\"), main=\"Sepal Length of each species\",\n",
    "        xlab=\"Species\", ylab=\"Sepal.Length\", col=c(\"red\", \"blue\", \"green\"))"
   ]
  },
  {
   "cell_type": "markdown",
   "id": "74e46db0-04d1-4a2a-8f8e-5b574c2fdf7e",
   "metadata": {},
   "source": [
    "丸は外れ値"
   ]
  },
  {
   "cell_type": "markdown",
   "id": "17c3eb2d-aa84-41b9-9554-4dd32f2a4659",
   "metadata": {},
   "source": [
    "- ヒストグラム"
   ]
  },
  {
   "cell_type": "markdown",
   "id": "f0174f19-a446-4bb6-9116-a44bb55336a9",
   "metadata": {},
   "source": [
    "`hist(_data_)`"
   ]
  },
  {
   "cell_type": "code",
   "execution_count": 10,
   "id": "622c2734-ec2b-425e-93fd-050f357ef5c9",
   "metadata": {},
   "outputs": [
    {
     "data": {
      "image/png": "[encoded data removed]",
      "text/plain": [
       "Plot with title \"Histogram of setosa$Sepal.Length\""
      ]
     },
     "metadata": {
      "image/png": {
       "height": 420,
       "width": 420
      }
     },
     "output_type": "display_data"
    }
   ],
   "source": [
    "hist(setosa$Sepal.Length)"
   ]
  },
  {
   "cell_type": "markdown",
   "id": "aef21b78-b5a1-4b55-9921-6b512c69a721",
   "metadata": {},
   "source": [
    "階級幅はしていなければ自動設定される"
   ]
  },
  {
   "cell_type": "markdown",
   "id": "031f12df-1614-445a-9b0d-ca7f1ebfa543",
   "metadata": {},
   "source": [
    "# Reference"
   ]
  },
  {
   "cell_type": "markdown",
   "id": "3396a2ea-c539-4689-80c0-a5df0194b112",
   "metadata": {},
   "source": [
    "> [Rによる統計入門](https://htsuda.net/stats/dataset.html)"
   ]
  }
 ],
 "metadata": {
  "kernelspec": {
   "display_name": "R",
   "language": "R",
   "name": "ir"
  },
  "language_info": {
   "codemirror_mode": "r",
   "file_extension": ".r",
   "mimetype": "text/x-r-source",
   "name": "R",
   "pygments_lexer": "r",
   "version": "3.6.1"
  }
 },
 "nbformat": 4,
 "nbformat_minor": 5
}
