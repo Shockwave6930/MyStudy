{
 "cells": [
  {
   "cell_type": "code",
   "execution_count": null,
   "id": "93e1cbb7-f9ae-4b71-b330-5e22cec5be0c",
   "metadata": {},
   "outputs": [],
   "source": [
    "upper1 = pnorm(1, mean=1, sd=1, lower.tail=F)"
   ]
  },
  {
   "cell_type": "code",
   "execution_count": null,
   "id": "8dae86c5-d958-4966-a9d6-828352ba6b0d",
   "metadata": {},
   "outputs": [],
   "source": [
    "upper1 = pnorm(1, mean=1, sd=1, lower.tail=F)\n",
    "upper1 = pnorm(1, mean=0, sd=1, lower.tail=F)\n",
    "lower1 = pnorm(-1, mean=0, sd=1)\n",
    "probability_sigma1 = 1 - upper1 - lower1\n",
    "upper2 = pnorm(2, mean=0, sd=1, lower.tail=F)\n",
    "lower2 = pnorm(-2, mean=0, sd=1)\n",
    "probability_sigma2 = 1 - upper2 - lower2\n",
    "upper3 = pnorm(3, mean=0, sd=1, lower.tail=F)\n",
    "lower3 = pnorm(-3, mean=0, sd=1)\n",
    "probability_sigma3 = 1 - upper3 - lower3\n",
    "z <- rnorm(n=1000, mean=0, sd=1)\n",
    "hist(z, xlim=c(-5, 5), freq=F, ylim=c(0, 0.4))\n",
    "x <- seq(-5, 5, 0.05)\n",
    "lines(x, dnorm(x, mean=0, sd=1), type=\"l\", col=\"red\")\n",
    "z <- rnorm(n=1000, mean=0, sd=2)\n",
    "hist(z, xlim=c(-7, 7), freq=F, ylim=c(0, 0.4))\n",
    "hist(z, xlim=c(-7, 7), freq=F, ylim=c(0, 0.4))\n",
    "x <- seq(-7, 7, 0.05)\n",
    "lines(x, dnorm(x, mean=0, sd=2), type=\"l\", col=\"red\")data = read.csv(\"Leaves.csv\", sep=\",\")\n",
    "mean(data$Leaf_Area[1:20])\n",
    "sd(data$Leaf_Area[1:20])\n",
    "median(data$Leaf_Area[1:20])\n",
    "mean(data$Leaf_Area[21:40])\n",
    "sd(data$Leaf_Area[21:40])\n",
    "median(data$Leaf_Area[21:40])\n",
    "mean(data$Leaf_Area[41:60])\n",
    "sd(data$Leaf_Area[41:60])\n",
    "median(data$Leaf_Area[41:60])\n",
    "mean(data$Leaf_Wt[1:20])\n",
    "sd(data$Leaf_Wt[1:20])\n",
    "median(data$Leaf_Wt[1:20])\n",
    "mean(data$Leaf_Wt[21:40])\n",
    "sd(data$Leaf_Wt[21:40])\n",
    "median(data$Leaf_Wt[21:40])\n",
    "mean(data$Leaf_Wt[41:60])\n",
    "sd(data$Leaf_Wt[41:60])\n",
    "median(data$Leaf_Wt[41:60])\n",
    "\n",
    "boxplot(data$Leaf_Area[1:20], data$Leaf_Area[21:40], data$Leaf_Area[41:60], names=c(\"setosa\", \"versicolor\", \"virginica\"), main=\"Area\", xlab=\"Species\", ylab=\"Leaf_Area\")\n",
    "boxplot(data$Leaf_Wt[1:20], data$Leaf_Wt[21:40], data$Leaf_Wt[41:60], names=c(\"setosa\", \"versicolor\", \"virginica\"), main=\"Wt\", xlab=\"Species\", ylab=\"Leaf_Wt\")\n",
    "AlmusCrispa <- subset(data, data$readSpecies==\"Alnus crispa\")\n",
    "plot(Leaf_Length~Leaf_Area, data=AlmusCrispa, pch=1, main=\"Almus crispa\")\n",
    "BetulaNeoalaskana <- subset(data, data$readSpecies==\"Betula neoalaskana\")\n",
    "plot(Leaf_Length~Leaf_Area, data=BetulaNeoalaskana, pch=1, main=\"Betula neoalaskana\")\n",
    "PopulusTremuloides <- subset(data, data$readSpecies==\"Populus tremuloides\")\n",
    "plot(Leaf_Length~Leaf_Area, data=PopulusTremuloides, pch=1, main=\"Populus tremuloides\")\n",
    "\n",
    "\n"
   ]
  },
  {
   "cell_type": "code",
   "execution_count": null,
   "id": "579e7fe6-afb1-4767-8b5b-538ce5a73bbc",
   "metadata": {},
   "outputs": [],
   "source": []
  }
 ],
 "metadata": {
  "kernelspec": {
   "display_name": "R",
   "language": "R",
   "name": "ir"
  },
  "language_info": {
   "name": ""
  }
 },
 "nbformat": 4,
 "nbformat_minor": 5
}
