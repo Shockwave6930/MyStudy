{
 "cells": [
  {
   "cell_type": "markdown",
   "id": "1ca7056f-7afd-429a-9b2b-96c2eb1f2c01",
   "metadata": {},
   "source": [
    "# Markdown"
   ]
  },
  {
   "cell_type": "markdown",
   "id": "52d47a11-738b-45c9-9613-bd337f798741",
   "metadata": {},
   "source": [
    "参考文献\n",
    "- [Markdownセルを使ってテキストを表示する](https://www.javadrive.jp/python/jupyter-notebook/index4.html)\n",
    "- [jupyterでセルにリンクを貼る](https://qiita.com/shachah-svaahaa/items/b47a103ad38cca066e2e)\n",
    "- [Jupyter Notebook で数式を美しく書く](https://qiita.com/namoshika/items/63db972bfd1030f8264a)"
   ]
  },
  {
   "cell_type": "code",
   "execution_count": null,
   "id": "5365c392-9543-430f-a706-11d1337eaae2",
   "metadata": {},
   "outputs": [],
   "source": []
  }
 ],
 "metadata": {
  "kernelspec": {
   "display_name": "Python 3",
   "language": "python",
   "name": "python3"
  },
  "language_info": {
   "codemirror_mode": {
    "name": "ipython",
    "version": 3
   },
   "file_extension": ".py",
   "mimetype": "text/x-python",
   "name": "python",
   "nbconvert_exporter": "python",
   "pygments_lexer": "ipython3",
   "version": "3.8.8"
  }
 },
 "nbformat": 4,
 "nbformat_minor": 5
}
