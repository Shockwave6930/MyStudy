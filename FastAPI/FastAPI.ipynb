{
 "cells": [
  {
   "cell_type": "markdown",
   "id": "d43944d8-01c3-4559-809e-876da96853c7",
   "metadata": {},
   "source": [
    "# FastAPI"
   ]
  },
  {
   "cell_type": "markdown",
   "id": "0937fab0-c81b-4edb-af1a-1475fa27cb56",
   "metadata": {},
   "source": [
    "---"
   ]
  },
  {
   "cell_type": "markdown",
   "id": "1fac8aca-495c-4184-b384-1b8a077ad16d",
   "metadata": {},
   "source": [
    "## [Zenn](https://zenn.dev/sh0nk/books/537bb028709ab9)のFastAPI準拠"
   ]
  },
  {
   "cell_type": "markdown",
   "id": "f7ffe579-3340-4f50-a9e3-133adcd55944",
   "metadata": {},
   "source": [
    "FastAPI は、Pythonの標準である型ヒントに基づいてPython 3.6 以降でAPI を構築するための、モダンで、高速(高パフォーマンス)な、Web フレームワークです。\n",
    "\n",
    "主な特徴:\n",
    "\n",
    "高速: NodeJS や Go 並みのとても高いパフォーマンス (Starlette と Pydantic のおかげです)。 最も高速な Python フレームワークの一つです.\n",
    "\n",
    "高速なコーディング: 開発速度を約 200%~300%向上させます。 *\n",
    "\n",
    "少ないバグ: 開発者起因のヒューマンエラーを約 40％削減します。 *\n",
    "直感的: 素晴らしいエディタのサポートや オートコンプリート。 デバッグ時間を削減します。\n",
    "簡単: 簡単に利用、習得できるようにデザインされています。ドキュメントを読む時間を削減します。\n",
    "短い: コードの重複を最小限にしています。各パラメータからの複数の機能。少ないバグ。\n",
    "堅牢性: 自動対話ドキュメントを使用して、本番環境で使用できるコードを取得します。\n",
    "Standards-based: API のオープンスタンダードに基づいており、完全に互換性があります: OpenAPI (以前は Swagger として知られていました) や JSON スキーマ."
   ]
  },
  {
   "cell_type": "markdown",
   "id": "d5d38d9b-8e21-4dd7-8305-582d75ac92cd",
   "metadata": {},
   "source": [
    "[公式リファレンス](https://fastapi.tiangolo.com/ja/)"
   ]
  },
  {
   "cell_type": "markdown",
   "id": "8e805d53-005e-49fc-9dcd-609a549499af",
   "metadata": {},
   "source": [
    "---"
   ]
  },
  {
   "cell_type": "code",
   "execution_count": null,
   "id": "5cd0e358-5ddc-4940-9495-d6d9dd677048",
   "metadata": {},
   "outputs": [],
   "source": [
    ".\n",
    "├── api\n",
    "│   ├── __init__.py\n",
    "│   └── main.py\n",
    "├── Dockerfile\n",
    "├── docker-compose.yaml\n",
    "├── poetry.lock\n",
    "└── pyproject.toml"
   ]
  },
  {
   "cell_type": "markdown",
   "id": "fb5367e9-c3b7-46c0-a003-89f26a9b45e3",
   "metadata": {},
   "source": [
    "'__init__.py'は、apiディレクトリがpythonモジュールであることを示す空ファイル"
   ]
  },
  {
   "cell_type": "markdown",
   "id": "41c1fa91-3a80-449e-830c-f8b11786ec7d",
   "metadata": {},
   "source": [
    "FastAPIでAPIの立ち上げができた場合(エラーがなかった場合)、SwaggerUIが自動で生成される  \n",
    "SwaggerUIとは、APIの仕様を示すドキュメントのことで、実際にAPIの動作の検証を行える(対話型ドキュメント)\n",
    "http://localhost:8000/docs  \n",
    "SwaggerUIではエンドポイントごとに仕様、動作の検証等を行うことができる"
   ]
  },
  {
   "cell_type": "code",
   "execution_count": null,
   "id": "ab717bf6-fe54-45bc-9f06-eb1557004841",
   "metadata": {},
   "outputs": [],
   "source": [
    "#main.py\n",
    "from fastapi import FastAPI\n",
    "\n",
    "app = FastAPI()   #このappがFastAPIのインスタンス\n",
    "\n",
    "\n",
    "@app.get(\"/hello\")\n",
    "async def hello():\n",
    "    return {\"message\": \"hello world!\"}"
   ]
  },
  {
   "cell_type": "markdown",
   "id": "e200af14-6ac6-4ebf-9bf1-f7390947aff5",
   "metadata": {},
   "source": [
    "上記の@app.get(\"/hello\")のようにFastAPIインスタンスに対するデコレータで就職された関数のことをFastAPIでは、パスオペレーション関数と呼ぶ。\n",
    "ここでパスとオペレーションは以下のように対応する。\n",
    "- パス ⇔ /hello\n",
    "- オペレーション ⇔ .get(post, put, deleteなど)  \n",
    "つまり\n",
    "- パスとはエンドポイント(あるプログラムがAPIなどの形で外部に公開している機能の所在を示す識別名)のこと\n",
    "- オペレーションとは、HTTPメソッドのこと"
   ]
  },
  {
   "cell_type": "code",
   "execution_count": null,
   "id": "33fa24de-a809-4bfc-bc6c-8d6cc0a753f0",
   "metadata": {},
   "outputs": [],
   "source": []
  },
  {
   "cell_type": "code",
   "execution_count": null,
   "id": "e4f6227b-2a65-457a-a88f-47fb151e0981",
   "metadata": {},
   "outputs": [],
   "source": []
  },
  {
   "cell_type": "code",
   "execution_count": null,
   "id": "54efc741-00cf-4e4f-95b8-b545de52076f",
   "metadata": {},
   "outputs": [],
   "source": []
  }
 ],
 "metadata": {
  "kernelspec": {
   "display_name": "Python 3",
   "language": "python",
   "name": "python3"
  },
  "language_info": {
   "codemirror_mode": {
    "name": "ipython",
    "version": 3
   },
   "file_extension": ".py",
   "mimetype": "text/x-python",
   "name": "python",
   "nbconvert_exporter": "python",
   "pygments_lexer": "ipython3",
   "version": "3.8.8"
  }
 },
 "nbformat": 4,
 "nbformat_minor": 5
}
